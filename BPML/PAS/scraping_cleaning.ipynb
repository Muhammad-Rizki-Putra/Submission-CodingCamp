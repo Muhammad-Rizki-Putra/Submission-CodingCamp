{
 "cells": [
  {
   "cell_type": "markdown",
   "metadata": {},
   "source": [
    "# Import and installation"
   ]
  },
  {
   "cell_type": "code",
   "execution_count": 3,
   "metadata": {},
   "outputs": [],
   "source": [
    "from google_play_scraper import app, reviews, Sort, reviews\n",
    "import pandas as pd  \n",
    "pd.options.mode.chained_assignment = None\n",
    "import numpy as np\n",
    "seed = 0\n",
    "np.random.seed(seed)\n",
    "import seaborn as sns  \n",
    "from sklearn.metrics import accuracy_score\n",
    "from Sastrawi.StopWordRemover.StopWordRemoverFactory import StopWordRemoverFactory  \n",
    "from wordcloud import WordCloud  \n",
    "import nltk   \n",
    "import csv"
   ]
  },
  {
   "cell_type": "markdown",
   "metadata": {},
   "source": [
    "# Scrapping"
   ]
  },
  {
   "cell_type": "code",
   "execution_count": 4,
   "metadata": {},
   "outputs": [],
   "source": [
    "scrapreview, _ = reviews(\n",
    "    'com.gojek.app',\n",
    "    lang='id',\n",
    "    country='id',\n",
    "    sort=Sort.MOST_RELEVANT,\n",
    "    count=50000\n",
    ")"
   ]
  },
  {
   "cell_type": "code",
   "execution_count": 5,
   "metadata": {},
   "outputs": [],
   "source": [
    "with open('ulasan_aplikasi.csv', mode='w', newline='', encoding='utf-8') as file:\n",
    "    writer = csv.writer(file)\n",
    "    writer.writerow(['Review'])  \n",
    "    for review in scrapreview:\n",
    "        writer.writerow([review['content']])"
   ]
  },
  {
   "cell_type": "code",
   "execution_count": 6,
   "metadata": {},
   "outputs": [],
   "source": [
    "app_reviews_df = pd.DataFrame(scrapreview)\n",
    "app_reviews_df.shape\n",
    "app_reviews_df.head()\n",
    "app_reviews_df.to_csv('ulasan_aplikasi.csv', index=False)\n",
    " \n",
    "app_reviews_df = pd.DataFrame(scrapreview)\n",
    " \n",
    "jumlah_ulasan, jumlah_kolom = app_reviews_df.shape"
   ]
  },
  {
   "cell_type": "code",
   "execution_count": 7,
   "metadata": {},
   "outputs": [
    {
     "data": {
      "application/vnd.microsoft.datawrangler.viewer.v0+json": {
       "columns": [
        {
         "name": "index",
         "rawType": "int64",
         "type": "integer"
        },
        {
         "name": "reviewId",
         "rawType": "object",
         "type": "string"
        },
        {
         "name": "userName",
         "rawType": "object",
         "type": "string"
        },
        {
         "name": "userImage",
         "rawType": "object",
         "type": "string"
        },
        {
         "name": "content",
         "rawType": "object",
         "type": "string"
        },
        {
         "name": "score",
         "rawType": "int64",
         "type": "integer"
        },
        {
         "name": "thumbsUpCount",
         "rawType": "int64",
         "type": "integer"
        },
        {
         "name": "reviewCreatedVersion",
         "rawType": "object",
         "type": "string"
        },
        {
         "name": "at",
         "rawType": "datetime64[ns]",
         "type": "datetime"
        },
        {
         "name": "replyContent",
         "rawType": "object",
         "type": "string"
        },
        {
         "name": "repliedAt",
         "rawType": "datetime64[ns]",
         "type": "datetime"
        },
        {
         "name": "appVersion",
         "rawType": "object",
         "type": "string"
        }
       ],
       "conversionMethod": "pd.DataFrame",
       "ref": "4e92e901-7811-4492-b053-fcac0cec41c3",
       "rows": [
        [
         "0",
         "595da86c-acc1-4a64-ae43-90ff85eaf53d",
         "Pengguna Google",
         "https://play-lh.googleusercontent.com/EGemoI2NTXmTsBVtJqk8jxF9rh8ApRWfsIMQSt2uE4OcpQqbFu7f7NbTK05lx80nuSijCz7sc3a277R67g",
         "terlalu terlalu terlalu... apk yg tidak bisa di percaya. kuota cepat abis minta update terus. tp bug tmbah banyak. hp jd lelet !!!.. kok bisa nyuri data pribadi ya... diliat dari apk yg terus berjln dilatar belakang dan terus mengirim data. tp g tau data ap yg dikirim ?? wah wah wah... bahaya bobol bisa atm wkwkwk",
         "1",
         "1",
         "4.31.1",
         "2022-04-21 20:37:07",
         "Hai, mohon maaf atas kendala yang kamu alami. Mengenai kendala tersebut, silakan laporkan melalui email ke customerservice@go-jek.com dengan melampirkan kode psr-22-112-0133-51987 pada subject email agar tim kami bisa bantu cek lebih lanjut. ^Viska",
         "2022-04-22 08:33:31",
         "4.31.1"
        ],
        [
         "1",
         "9f871c14-7d44-4f0d-8cbe-9904d42cf3b6",
         "Pengguna Google",
         "https://play-lh.googleusercontent.com/EGemoI2NTXmTsBVtJqk8jxF9rh8ApRWfsIMQSt2uE4OcpQqbFu7f7NbTK05lx80nuSijCz7sc3a277R67g",
         "Gak usah pasang tarif tarif hemat, soalnya para driver nya gak ada yang mau ambil orderan, dengan alasan gak sesuai dengan harga, dan bahasa mereka merendahkan costumer, karena pesen yg paket hemat, trs knp di adain paket hemat, yg salah yg punya aplikasi lah, pengen kasih promo tapi para driver nya gak mau.",
         "1",
         "305",
         "5.14.2",
         "2025-03-21 21:44:12",
         "Hai Kak Evi, mohon maaf atas ketidaknyamanannya. Laporan yang kamu sampaikan akan menjadi masukan bagi kami untuk terus meningkatkan kualitas layanan kami ke depannya. Jika kamu memiliki pertanyaan atau kendala lainnya, silakan kunjungi menu Bantuan di aplikasi Gojek kamu. ^Maura",
         "2025-03-21 22:05:01",
         "5.14.2"
        ],
        [
         "2",
         "825e4595-c073-4388-8229-415e372b6c01",
         "Pengguna Google",
         "https://play-lh.googleusercontent.com/EGemoI2NTXmTsBVtJqk8jxF9rh8ApRWfsIMQSt2uE4OcpQqbFu7f7NbTK05lx80nuSijCz7sc3a277R67g",
         "tinggal 2menit lg driver sampe di lokasi tiba-tiba dibatalin otomatis sama aplikasinya!!! tau tau udah mencari driver yg baru, dan ini kejadian gak sekali dua kali tapi sering! map jg sering di arahin ke jalan yg sulit di lewati mobil!! alhasil banyak yg batalin! komplain via chat cuma bot doang, Kita yg mo complain gak bisa ketik sendiri masalahnya, mo complain lewat email atau tlp jg gak bisa!!! aplikasi gak niat terima komplain!!!",
         "1",
         "143",
         "5.14.2",
         "2025-03-26 07:35:56",
         "Hai Kak Wahyu, mohon maaf atas ketidaknyamanannya. Laporan yang kamu sampaikan akan menjadi masukan bagi kami untuk terus meningkatkan kualitas layanan kami ke depannya. Jika masih berkendala, silakan laporkan ke email customerservice@gojek.com dengan kode psr-25-085-0426-36402 di subject email. Kami tunggu detail laporan kamu ya. ^Melisa",
         "2025-03-26 11:26:47",
         "5.14.2"
        ],
        [
         "3",
         "46c3b900-0136-4fbf-91a0-c3f73d661fac",
         "Pengguna Google",
         "https://play-lh.googleusercontent.com/EGemoI2NTXmTsBVtJqk8jxF9rh8ApRWfsIMQSt2uE4OcpQqbFu7f7NbTK05lx80nuSijCz7sc3a277R67g",
         "sebagai pengguna lama baru kali ini saya kecewa sama aplikasi GO-JEK terutama gocar... sebelumnya saya tidak pernah ada masalah walau kadang tidak sesuai harapan dan tetap saya kasih bintang lima dan tip. tp ini sudah pakai prioritas, tetap dicancel driver dgn alasan jauh (pdhl di maps deket), harga ga sesuai (kan bukan saya yg kasih harga jg), driver yg beneran jauh posisinya (pdhl prioritas harusnya yg paling dekat)... akhirnya adu lama2an cancel order... makan waktu... makan ati... hiks...",
         "1",
         "9",
         "5.14.2",
         "2025-04-07 14:25:32",
         "Hai Kak Harliani, mohon maaf atas ketidaknyamanannya. Laporan yang kamu sampaikan akan menjadi masukan bagi kami untuk terus meningkatkan kualitas layanan kami ke depannya. Kemudian terkait keluhannya, silakan laporkan melalui menu Bantuan di aplikasi Gojek dengan mengetik \"Driver membatalkan pesanan saya\" pada kolom pencarian ya. ^Melisa",
         "2025-04-07 15:59:35",
         "5.14.2"
        ],
        [
         "4",
         "ca02be83-772a-480a-a36c-7363e8176146",
         "Pengguna Google",
         "https://play-lh.googleusercontent.com/EGemoI2NTXmTsBVtJqk8jxF9rh8ApRWfsIMQSt2uE4OcpQqbFu7f7NbTK05lx80nuSijCz7sc3a277R67g",
         "susah untuk dpt driver walaupun di map ada banyak driver yg gak jalan, sekalinya hujan harga langsung melonjak drastis setiap merefresh, ada pilihan hemat namun harga lebih mahal daripada yg biasa dan percuma tidak akan ada driver yg ambil orderannya,sudah memilih dari yg murah sampai paling mahal namun tetap saja nihil🥴, dulu enak sekarang makin buruk",
         "1",
         "41",
         "5.14.2",
         "2025-04-03 17:14:06",
         "Mohon maaf atas kendalanya, Kak @Pacar mammon Uwuh. Kesulitan mendapatkan driver bisa terjadi karena meningkatnya jumlah pesanan di jam sibuk, atau tidak ada driver di dekat titik penjemputan. Mohon menunggu beberapa saat dan coba kembali, ya. Jika ada pertanyaan lain, silakan kunjungi menu Bantuan pada aplikasi Gojek-mu, ya. ^Miko",
         "2025-04-04 01:05:46",
         "5.14.2"
        ]
       ],
       "shape": {
        "columns": 11,
        "rows": 5
       }
      },
      "text/html": [
       "<div>\n",
       "<style scoped>\n",
       "    .dataframe tbody tr th:only-of-type {\n",
       "        vertical-align: middle;\n",
       "    }\n",
       "\n",
       "    .dataframe tbody tr th {\n",
       "        vertical-align: top;\n",
       "    }\n",
       "\n",
       "    .dataframe thead th {\n",
       "        text-align: right;\n",
       "    }\n",
       "</style>\n",
       "<table border=\"1\" class=\"dataframe\">\n",
       "  <thead>\n",
       "    <tr style=\"text-align: right;\">\n",
       "      <th></th>\n",
       "      <th>reviewId</th>\n",
       "      <th>userName</th>\n",
       "      <th>userImage</th>\n",
       "      <th>content</th>\n",
       "      <th>score</th>\n",
       "      <th>thumbsUpCount</th>\n",
       "      <th>reviewCreatedVersion</th>\n",
       "      <th>at</th>\n",
       "      <th>replyContent</th>\n",
       "      <th>repliedAt</th>\n",
       "      <th>appVersion</th>\n",
       "    </tr>\n",
       "  </thead>\n",
       "  <tbody>\n",
       "    <tr>\n",
       "      <th>0</th>\n",
       "      <td>595da86c-acc1-4a64-ae43-90ff85eaf53d</td>\n",
       "      <td>Pengguna Google</td>\n",
       "      <td>https://play-lh.googleusercontent.com/EGemoI2N...</td>\n",
       "      <td>terlalu terlalu terlalu... apk yg tidak bisa d...</td>\n",
       "      <td>1</td>\n",
       "      <td>1</td>\n",
       "      <td>4.31.1</td>\n",
       "      <td>2022-04-21 20:37:07</td>\n",
       "      <td>Hai, mohon maaf atas kendala yang kamu alami. ...</td>\n",
       "      <td>2022-04-22 08:33:31</td>\n",
       "      <td>4.31.1</td>\n",
       "    </tr>\n",
       "    <tr>\n",
       "      <th>1</th>\n",
       "      <td>9f871c14-7d44-4f0d-8cbe-9904d42cf3b6</td>\n",
       "      <td>Pengguna Google</td>\n",
       "      <td>https://play-lh.googleusercontent.com/EGemoI2N...</td>\n",
       "      <td>Gak usah pasang tarif tarif hemat, soalnya par...</td>\n",
       "      <td>1</td>\n",
       "      <td>305</td>\n",
       "      <td>5.14.2</td>\n",
       "      <td>2025-03-21 21:44:12</td>\n",
       "      <td>Hai Kak Evi, mohon maaf atas ketidaknyamananny...</td>\n",
       "      <td>2025-03-21 22:05:01</td>\n",
       "      <td>5.14.2</td>\n",
       "    </tr>\n",
       "    <tr>\n",
       "      <th>2</th>\n",
       "      <td>825e4595-c073-4388-8229-415e372b6c01</td>\n",
       "      <td>Pengguna Google</td>\n",
       "      <td>https://play-lh.googleusercontent.com/EGemoI2N...</td>\n",
       "      <td>tinggal 2menit lg driver sampe di lokasi tiba-...</td>\n",
       "      <td>1</td>\n",
       "      <td>143</td>\n",
       "      <td>5.14.2</td>\n",
       "      <td>2025-03-26 07:35:56</td>\n",
       "      <td>Hai Kak Wahyu, mohon maaf atas ketidaknyamanan...</td>\n",
       "      <td>2025-03-26 11:26:47</td>\n",
       "      <td>5.14.2</td>\n",
       "    </tr>\n",
       "    <tr>\n",
       "      <th>3</th>\n",
       "      <td>46c3b900-0136-4fbf-91a0-c3f73d661fac</td>\n",
       "      <td>Pengguna Google</td>\n",
       "      <td>https://play-lh.googleusercontent.com/EGemoI2N...</td>\n",
       "      <td>sebagai pengguna lama baru kali ini saya kecew...</td>\n",
       "      <td>1</td>\n",
       "      <td>9</td>\n",
       "      <td>5.14.2</td>\n",
       "      <td>2025-04-07 14:25:32</td>\n",
       "      <td>Hai Kak Harliani, mohon maaf atas ketidaknyama...</td>\n",
       "      <td>2025-04-07 15:59:35</td>\n",
       "      <td>5.14.2</td>\n",
       "    </tr>\n",
       "    <tr>\n",
       "      <th>4</th>\n",
       "      <td>ca02be83-772a-480a-a36c-7363e8176146</td>\n",
       "      <td>Pengguna Google</td>\n",
       "      <td>https://play-lh.googleusercontent.com/EGemoI2N...</td>\n",
       "      <td>susah untuk dpt driver walaupun di map ada ban...</td>\n",
       "      <td>1</td>\n",
       "      <td>41</td>\n",
       "      <td>5.14.2</td>\n",
       "      <td>2025-04-03 17:14:06</td>\n",
       "      <td>Mohon maaf atas kendalanya, Kak @Pacar mammon ...</td>\n",
       "      <td>2025-04-04 01:05:46</td>\n",
       "      <td>5.14.2</td>\n",
       "    </tr>\n",
       "  </tbody>\n",
       "</table>\n",
       "</div>"
      ],
      "text/plain": [
       "                               reviewId         userName  \\\n",
       "0  595da86c-acc1-4a64-ae43-90ff85eaf53d  Pengguna Google   \n",
       "1  9f871c14-7d44-4f0d-8cbe-9904d42cf3b6  Pengguna Google   \n",
       "2  825e4595-c073-4388-8229-415e372b6c01  Pengguna Google   \n",
       "3  46c3b900-0136-4fbf-91a0-c3f73d661fac  Pengguna Google   \n",
       "4  ca02be83-772a-480a-a36c-7363e8176146  Pengguna Google   \n",
       "\n",
       "                                           userImage  \\\n",
       "0  https://play-lh.googleusercontent.com/EGemoI2N...   \n",
       "1  https://play-lh.googleusercontent.com/EGemoI2N...   \n",
       "2  https://play-lh.googleusercontent.com/EGemoI2N...   \n",
       "3  https://play-lh.googleusercontent.com/EGemoI2N...   \n",
       "4  https://play-lh.googleusercontent.com/EGemoI2N...   \n",
       "\n",
       "                                             content  score  thumbsUpCount  \\\n",
       "0  terlalu terlalu terlalu... apk yg tidak bisa d...      1              1   \n",
       "1  Gak usah pasang tarif tarif hemat, soalnya par...      1            305   \n",
       "2  tinggal 2menit lg driver sampe di lokasi tiba-...      1            143   \n",
       "3  sebagai pengguna lama baru kali ini saya kecew...      1              9   \n",
       "4  susah untuk dpt driver walaupun di map ada ban...      1             41   \n",
       "\n",
       "  reviewCreatedVersion                  at  \\\n",
       "0               4.31.1 2022-04-21 20:37:07   \n",
       "1               5.14.2 2025-03-21 21:44:12   \n",
       "2               5.14.2 2025-03-26 07:35:56   \n",
       "3               5.14.2 2025-04-07 14:25:32   \n",
       "4               5.14.2 2025-04-03 17:14:06   \n",
       "\n",
       "                                        replyContent           repliedAt  \\\n",
       "0  Hai, mohon maaf atas kendala yang kamu alami. ... 2022-04-22 08:33:31   \n",
       "1  Hai Kak Evi, mohon maaf atas ketidaknyamananny... 2025-03-21 22:05:01   \n",
       "2  Hai Kak Wahyu, mohon maaf atas ketidaknyamanan... 2025-03-26 11:26:47   \n",
       "3  Hai Kak Harliani, mohon maaf atas ketidaknyama... 2025-04-07 15:59:35   \n",
       "4  Mohon maaf atas kendalanya, Kak @Pacar mammon ... 2025-04-04 01:05:46   \n",
       "\n",
       "  appVersion  \n",
       "0     4.31.1  \n",
       "1     5.14.2  \n",
       "2     5.14.2  \n",
       "3     5.14.2  \n",
       "4     5.14.2  "
      ]
     },
     "execution_count": 7,
     "metadata": {},
     "output_type": "execute_result"
    }
   ],
   "source": [
    "app_reviews_df.head()"
   ]
  },
  {
   "cell_type": "code",
   "execution_count": 8,
   "metadata": {},
   "outputs": [],
   "source": [
    "app_reviews_df.to_csv(\"hasil_scrapping.csv\", index=False)"
   ]
  }
 ],
 "metadata": {
  "kernelspec": {
   "display_name": "base",
   "language": "python",
   "name": "python3"
  },
  "language_info": {
   "codemirror_mode": {
    "name": "ipython",
    "version": 3
   },
   "file_extension": ".py",
   "mimetype": "text/x-python",
   "name": "python",
   "nbconvert_exporter": "python",
   "pygments_lexer": "ipython3",
   "version": "3.11.7"
  }
 },
 "nbformat": 4,
 "nbformat_minor": 2
}
