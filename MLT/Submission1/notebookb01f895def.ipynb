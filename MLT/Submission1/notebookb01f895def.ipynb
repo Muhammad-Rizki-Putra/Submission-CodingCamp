{
 "cells": [
  {
   "cell_type": "markdown",
   "metadata": {},
   "source": [
    "# Laporan Proyek Machine Learning - Muhammad Rizki Putra\n",
    "## Domain Project\n",
    "---\n",
    "\n",
    "#### Judul\n",
    "Penerapan Algoritma Klasifikasi Machine Learning dalam Memprediksi Risiko Penyakit Jantung\n",
    "\n",
    "#### Latar Belakang\n",
    "Penyakit jantung merupakan penyebab utama kematian di seluruh dunia. Berdasarkan data dari World Health Organization (WHO), penyakit kardiovaskular menyebabkan sekitar 17,9 juta kematian setiap tahun, atau sekitar 31% dari total kematian global. Kondisi ini mencerminkan urgensi dalam melakukan deteksi dini untuk mencegah komplikasi yang lebih serius dan meningkatkan harapan hidup pasien.\n",
    "\n",
    "Seiring dengan kemajuan teknologi, metode pembelajaran mesin (machine learning) telah banyak digunakan untuk mengembangkan model prediktif dalam bidang kesehatan, termasuk untuk memprediksi risiko penyakit jantung. Model ini mampu menganalisis data klinis pasien dan mengenali pola yang tidak terlihat oleh manusia, sehingga dapat digunakan untuk memperkirakan kemungkinan seseorang menderita penyakit jantung.\n",
    "\n",
    "untuk penjelasan lebih lengkap dapat dilihat di `Laporan Proyek.md`"
   ]
  },
  {
   "cell_type": "markdown",
   "metadata": {},
   "source": [
    "## Business Understanding\n",
    "---\n",
    "\n",
    "### Problem Statements\n",
    "- Penyakit jantung merupakan salah satu penyebab utama kematian di seluruh dunia, termasuk di Indonesia.\n",
    "- Proses diagnosis sering kali kompleks, memerlukan waktu, serta bergantung pada interpretasi manual, yang dapat menyebabkan keterlambatan dalam penanganan dan menurunkan peluang pemulihan pasien.\n",
    "\n",
    "### Goals\n",
    "- Membangun model machine learning yang mampu memprediksi status penyakit jantung berdasarkan data klinis pasien.\n",
    "- Mengevaluasi dan membandingkan kinerja beberapa algoritma klasifikasi seperti Logistic Regression, Decision Tree, Random Forest, Gaussian Naive Bayes, Support Vector Machine (SVM), K-Nearest Neighbors (KNN), XGBoost, dan Voting Classifier.\n",
    "- Menentukan model terbaik berdasarkan metrik evaluasi seperti Accuracy, Precision, Recall, dan F1-Score.\n",
    "- Memilih model yang tidak hanya memiliki performa tinggi tetapi juga interpretabilitas yang baik untuk mendukung pengambilan keputusan klinis.\n",
    "  \n",
    "### Solution statements\n",
    "Untuk mencapai tujuan-tujuan yang telah ditetapkan, proyek ini akan mengimplementasikan langkah-langkah strategis berikut:\n",
    "\n",
    "1. Pengembangan Model Prediktif Berbasis Klasifikasi:\n",
    "Akan dikembangkan sebuah sistem prediksi penyakit jantung dengan menerapkan berbagai algoritma machine learning untuk klasifikasi. Proses ini akan dimulai dengan pengumpulan dan persiapan data klinis pasien yang relevan. Data tersebut kemudian akan melalui tahap pra-pemrosesan (meliputi pembersihan data, penanganan nilai yang hilang jika ada, dan transformasi fitur jika diperlukan) untuk memastikan kualitas dan kesesuaiannya untuk pemodelan.\n",
    "\n",
    "2. Implementasi dan Pelatihan Ragam Algoritma Klasifikasi:\n",
    "Serangkaian algoritma klasifikasi yang telah diidentifikasi dalam goals (yaitu Logistic Regression, Decision Tree, Random Forest, Gaussian Naive Bayes, Support Vector Machine (SVM), K-Nearest Neighbors (KNN), XGBoost, dan Voting Classifier) akan diimplementasikan dan dilatih menggunakan dataset yang telah dipersiapkan. Setiap algoritma akan dikonfigurasi dan dioptimalkan (misalnya melalui hyperparameter tuning) untuk mendapatkan performa terbaiknya.\n",
    "\n",
    "3. Evaluasi Kinerja Model Secara Komprehensif:\n",
    "Kinerja dari setiap model yang telah dilatih akan diukur dan dibandingkan secara kuantitatif. Pengukuran ini akan menggunakan metrik evaluasi standar untuk tugas klasifikasi, yaitu Accuracy, Precision, Recall, dan F1-Score. Hasil dari metrik-metrik ini akan menjadi dasar objektif untuk menentukan model mana yang paling efektif dalam memprediksi penyakit jantung.\n",
    "\n",
    "4. Pemilihan Model Optimal dengan Pertimbangan Interpretabilitas:\n",
    "Berdasarkan hasil evaluasi kinerja, akan dilakukan analisis untuk menentukan model terbaik. Selain metrik kuantitatif, aspek interpretabilitas model juga akan menjadi kriteria penting. Tujuannya adalah untuk memilih model yang tidak hanya akurat dan handal dalam prediksi, tetapi juga dapat memberikan pemahaman atau wawasan yang jelas mengenai faktor-faktor yang mempengaruhi prediksi, sehingga dapat mendukung proses pengambilan keputusan klinis secara lebih efektif."
   ]
  },
  {
   "cell_type": "markdown",
   "metadata": {},
   "source": [
    "## Data Undertanding\n",
    "---\n",
    "\n",
    "Sumber dataset : https://www.kaggle.com/datasets/fedesoriano/heart-failure-prediction\n",
    "\n",
    "Dataset yang digunakan dalam proyek ini adalah Heart Failure Prediction Dataset, yang dapat diunduh secara publik melalui platform Kaggle. Dataset ini bertujuan untuk membantu dalam prediksi penyakit jantung berdasarkan atribut klinis pasien.\n",
    "\n",
    "Dataset terdiri dari 918 baris data (masing-masing mewakili seorang pasien) dan 12 kolom fitur yang terdiri dari kombinasi data numerik dan kategorikal. Dataset tidak memiliki nilai kosong (missing values) secara eksplisit, namun terdapat beberapa nilai nol pada fitur tertentu (misalnya Cholesterol) yang dicurigai sebagai representasi dari data hilang."
   ]
  },
  {
   "cell_type": "markdown",
   "metadata": {},
   "source": [
    "## Visualization & Explanatory Analysis\n",
    "---\n",
    "\n",
    "Tahap visualisasi data dilakukan untuk menyajikan hasil analisis dalam bentuk grafik dan diagram yang lebih mudah dipahami. Teknik visualisasi seperti histogram, scatter plot, heatmap, dan box plot digunakan untuk melihat distribusi data, hubungan antar variabel, serta pola yang mungkin muncul dalam dataset.\n",
    "\n",
    "Selain itu, dilakukan explanatory analysis untuk menjelaskan temuan dari proses eksplorasi dan pemodelan. Interpretasi visualisasi membantu dalam mengidentifikasi tren signifikan, anomali, serta wawasan penting yang dapat digunakan untuk pengambilan keputusan.\n",
    "\n",
    "Dengan pendekatan ini, hasil analisis menjadi lebih informatif dan dapat disajikan dengan cara yang jelas serta mudah dipahami."
   ]
  },
  {
   "cell_type": "markdown",
   "metadata": {},
   "source": [
    "### Import Library\n",
    "Melakukan import library untuk mendukung analisis data dalam laporan ini. Pustaka seperti Pandas, NumPy, dan Matplotlib digunakan untuk manipulasi data, analisis statistik, serta visualisasi hasil."
   ]
  },
  {
   "cell_type": "code",
   "execution_count": 2,
   "metadata": {
    "execution": {
     "iopub.execute_input": "2025-05-23T19:08:54.754423Z",
     "iopub.status.busy": "2025-05-23T19:08:54.754088Z",
     "iopub.status.idle": "2025-05-23T19:08:57.301345Z",
     "shell.execute_reply": "2025-05-23T19:08:57.300366Z",
     "shell.execute_reply.started": "2025-05-23T19:08:54.754397Z"
    },
    "trusted": true
   },
   "outputs": [],
   "source": [
    "# Manipulasi Data\n",
    "import numpy as np\n",
    "import pandas as pd\n",
    "\n",
    "# Visualisasi Data\n",
    "import matplotlib.pyplot as plt\n",
    "import seaborn as sns\n",
    "\n",
    "# Preprocessing\n",
    "from sklearn.preprocessing import LabelEncoder, StandardScaler\n",
    "\n",
    "# Model Selection dan Tuning\n",
    "from sklearn.model_selection import train_test_split, RandomizedSearchCV\n",
    "\n",
    "# Algoritma Klasifikasi\n",
    "from sklearn.linear_model import LogisticRegression\n",
    "from sklearn.tree import DecisionTreeClassifier\n",
    "from sklearn.ensemble import RandomForestClassifier, VotingClassifier\n",
    "from sklearn.naive_bayes import GaussianNB\n",
    "from sklearn.neighbors import KNeighborsClassifier\n",
    "from sklearn.svm import SVC\n",
    "from xgboost import XGBClassifier\n",
    "\n",
    "# Evaluasi Model\n",
    "from sklearn.metrics import accuracy_score, precision_score, recall_score, f1_score, confusion_matrix, classification_report\n"
   ]
  },
  {
   "cell_type": "markdown",
   "metadata": {},
   "source": [
    "### Gathering Data\n",
    "Pada tahap ini, kita membaca dataset yang dibutuhkan, yaitu: heart_csv"
   ]
  },
  {
   "cell_type": "code",
   "execution_count": 3,
   "metadata": {
    "execution": {
     "iopub.execute_input": "2025-05-23T19:08:57.303736Z",
     "iopub.status.busy": "2025-05-23T19:08:57.302989Z",
     "iopub.status.idle": "2025-05-23T19:08:57.309628Z",
     "shell.execute_reply": "2025-05-23T19:08:57.308351Z",
     "shell.execute_reply.started": "2025-05-23T19:08:57.303685Z"
    },
    "trusted": true
   },
   "outputs": [],
   "source": [
    "source_dir = \"/kaggle/input/heart-failure-prediction/heart.csv\"\n",
    "destination_dir = \"/kaggle/working/submission\""
   ]
  },
  {
   "cell_type": "code",
   "execution_count": 4,
   "metadata": {
    "execution": {
     "iopub.execute_input": "2025-05-23T19:08:57.311171Z",
     "iopub.status.busy": "2025-05-23T19:08:57.310852Z",
     "iopub.status.idle": "2025-05-23T19:08:57.396185Z",
     "shell.execute_reply": "2025-05-23T19:08:57.395266Z",
     "shell.execute_reply.started": "2025-05-23T19:08:57.311139Z"
    },
    "trusted": true
   },
   "outputs": [
    {
     "data": {
      "text/html": [
       "<div>\n",
       "<style scoped>\n",
       "    .dataframe tbody tr th:only-of-type {\n",
       "        vertical-align: middle;\n",
       "    }\n",
       "\n",
       "    .dataframe tbody tr th {\n",
       "        vertical-align: top;\n",
       "    }\n",
       "\n",
       "    .dataframe thead th {\n",
       "        text-align: right;\n",
       "    }\n",
       "</style>\n",
       "<table border=\"1\" class=\"dataframe\">\n",
       "  <thead>\n",
       "    <tr style=\"text-align: right;\">\n",
       "      <th></th>\n",
       "      <th>Age</th>\n",
       "      <th>Sex</th>\n",
       "      <th>ChestPainType</th>\n",
       "      <th>RestingBP</th>\n",
       "      <th>Cholesterol</th>\n",
       "      <th>FastingBS</th>\n",
       "      <th>RestingECG</th>\n",
       "      <th>MaxHR</th>\n",
       "      <th>ExerciseAngina</th>\n",
       "      <th>Oldpeak</th>\n",
       "      <th>ST_Slope</th>\n",
       "      <th>HeartDisease</th>\n",
       "    </tr>\n",
       "  </thead>\n",
       "  <tbody>\n",
       "    <tr>\n",
       "      <th>0</th>\n",
       "      <td>40</td>\n",
       "      <td>M</td>\n",
       "      <td>ATA</td>\n",
       "      <td>140</td>\n",
       "      <td>289</td>\n",
       "      <td>0</td>\n",
       "      <td>Normal</td>\n",
       "      <td>172</td>\n",
       "      <td>N</td>\n",
       "      <td>0.0</td>\n",
       "      <td>Up</td>\n",
       "      <td>0</td>\n",
       "    </tr>\n",
       "    <tr>\n",
       "      <th>1</th>\n",
       "      <td>49</td>\n",
       "      <td>F</td>\n",
       "      <td>NAP</td>\n",
       "      <td>160</td>\n",
       "      <td>180</td>\n",
       "      <td>0</td>\n",
       "      <td>Normal</td>\n",
       "      <td>156</td>\n",
       "      <td>N</td>\n",
       "      <td>1.0</td>\n",
       "      <td>Flat</td>\n",
       "      <td>1</td>\n",
       "    </tr>\n",
       "    <tr>\n",
       "      <th>2</th>\n",
       "      <td>37</td>\n",
       "      <td>M</td>\n",
       "      <td>ATA</td>\n",
       "      <td>130</td>\n",
       "      <td>283</td>\n",
       "      <td>0</td>\n",
       "      <td>ST</td>\n",
       "      <td>98</td>\n",
       "      <td>N</td>\n",
       "      <td>0.0</td>\n",
       "      <td>Up</td>\n",
       "      <td>0</td>\n",
       "    </tr>\n",
       "    <tr>\n",
       "      <th>3</th>\n",
       "      <td>48</td>\n",
       "      <td>F</td>\n",
       "      <td>ASY</td>\n",
       "      <td>138</td>\n",
       "      <td>214</td>\n",
       "      <td>0</td>\n",
       "      <td>Normal</td>\n",
       "      <td>108</td>\n",
       "      <td>Y</td>\n",
       "      <td>1.5</td>\n",
       "      <td>Flat</td>\n",
       "      <td>1</td>\n",
       "    </tr>\n",
       "    <tr>\n",
       "      <th>4</th>\n",
       "      <td>54</td>\n",
       "      <td>M</td>\n",
       "      <td>NAP</td>\n",
       "      <td>150</td>\n",
       "      <td>195</td>\n",
       "      <td>0</td>\n",
       "      <td>Normal</td>\n",
       "      <td>122</td>\n",
       "      <td>N</td>\n",
       "      <td>0.0</td>\n",
       "      <td>Up</td>\n",
       "      <td>0</td>\n",
       "    </tr>\n",
       "  </tbody>\n",
       "</table>\n",
       "</div>"
      ],
      "text/plain": [
       "   Age Sex ChestPainType  RestingBP  Cholesterol  FastingBS RestingECG  MaxHR  \\\n",
       "0   40   M           ATA        140          289          0     Normal    172   \n",
       "1   49   F           NAP        160          180          0     Normal    156   \n",
       "2   37   M           ATA        130          283          0         ST     98   \n",
       "3   48   F           ASY        138          214          0     Normal    108   \n",
       "4   54   M           NAP        150          195          0     Normal    122   \n",
       "\n",
       "  ExerciseAngina  Oldpeak ST_Slope  HeartDisease  \n",
       "0              N      0.0       Up             0  \n",
       "1              N      1.0     Flat             1  \n",
       "2              N      0.0       Up             0  \n",
       "3              Y      1.5     Flat             1  \n",
       "4              N      0.0       Up             0  "
      ]
     },
     "execution_count": 4,
     "metadata": {},
     "output_type": "execute_result"
    }
   ],
   "source": [
    "heart_df = pd.read_csv(source_dir,delimiter=\",\")\n",
    "heart_df.head()"
   ]
  },
  {
   "cell_type": "markdown",
   "metadata": {},
   "source": [
    "### Exploratory Data Analysis (EDA)\n",
    "\n",
    "dilakukan untuk memahami karakteristik data sebelum proses pemodelan. Analisis ini mencakup pemeriksaan distribusi data, deteksi nilai kosong, identifikasi anomali"
   ]
  },
  {
   "cell_type": "code",
   "execution_count": 5,
   "metadata": {
    "execution": {
     "iopub.execute_input": "2025-05-23T19:08:57.398782Z",
     "iopub.status.busy": "2025-05-23T19:08:57.398478Z",
     "iopub.status.idle": "2025-05-23T19:08:57.426747Z",
     "shell.execute_reply": "2025-05-23T19:08:57.425631Z",
     "shell.execute_reply.started": "2025-05-23T19:08:57.398756Z"
    },
    "trusted": true
   },
   "outputs": [
    {
     "name": "stdout",
     "output_type": "stream",
     "text": [
      "<class 'pandas.core.frame.DataFrame'>\n",
      "RangeIndex: 918 entries, 0 to 917\n",
      "Data columns (total 12 columns):\n",
      " #   Column          Non-Null Count  Dtype  \n",
      "---  ------          --------------  -----  \n",
      " 0   Age             918 non-null    int64  \n",
      " 1   Sex             918 non-null    object \n",
      " 2   ChestPainType   918 non-null    object \n",
      " 3   RestingBP       918 non-null    int64  \n",
      " 4   Cholesterol     918 non-null    int64  \n",
      " 5   FastingBS       918 non-null    int64  \n",
      " 6   RestingECG      918 non-null    object \n",
      " 7   MaxHR           918 non-null    int64  \n",
      " 8   ExerciseAngina  918 non-null    object \n",
      " 9   Oldpeak         918 non-null    float64\n",
      " 10  ST_Slope        918 non-null    object \n",
      " 11  HeartDisease    918 non-null    int64  \n",
      "dtypes: float64(1), int64(6), object(5)\n",
      "memory usage: 86.2+ KB\n"
     ]
    }
   ],
   "source": [
    "heart_df.info()"
   ]
  },
  {
   "cell_type": "code",
   "execution_count": 6,
   "metadata": {
    "execution": {
     "iopub.execute_input": "2025-05-23T19:08:57.428463Z",
     "iopub.status.busy": "2025-05-23T19:08:57.427898Z",
     "iopub.status.idle": "2025-05-23T19:08:57.451363Z",
     "shell.execute_reply": "2025-05-23T19:08:57.450426Z",
     "shell.execute_reply.started": "2025-05-23T19:08:57.428323Z"
    },
    "trusted": true
   },
   "outputs": [
    {
     "name": "stdout",
     "output_type": "stream",
     "text": [
      "Duplicate : 0\n"
     ]
    },
    {
     "data": {
      "text/plain": [
       "Age               0\n",
       "Sex               0\n",
       "ChestPainType     0\n",
       "RestingBP         0\n",
       "Cholesterol       0\n",
       "FastingBS         0\n",
       "RestingECG        0\n",
       "MaxHR             0\n",
       "ExerciseAngina    0\n",
       "Oldpeak           0\n",
       "ST_Slope          0\n",
       "HeartDisease      0\n",
       "dtype: int64"
      ]
     },
     "execution_count": 6,
     "metadata": {},
     "output_type": "execute_result"
    }
   ],
   "source": [
    "print(f\"Duplicate : {heart_df.duplicated().sum()}\")\n",
    "heart_df.isna().sum()\n"
   ]
  },
  {
   "cell_type": "code",
   "execution_count": 7,
   "metadata": {
    "execution": {
     "iopub.execute_input": "2025-05-23T19:08:57.453013Z",
     "iopub.status.busy": "2025-05-23T19:08:57.452538Z",
     "iopub.status.idle": "2025-05-23T19:08:57.502270Z",
     "shell.execute_reply": "2025-05-23T19:08:57.501339Z",
     "shell.execute_reply.started": "2025-05-23T19:08:57.452980Z"
    },
    "trusted": true
   },
   "outputs": [
    {
     "data": {
      "text/html": [
       "<div>\n",
       "<style scoped>\n",
       "    .dataframe tbody tr th:only-of-type {\n",
       "        vertical-align: middle;\n",
       "    }\n",
       "\n",
       "    .dataframe tbody tr th {\n",
       "        vertical-align: top;\n",
       "    }\n",
       "\n",
       "    .dataframe thead th {\n",
       "        text-align: right;\n",
       "    }\n",
       "</style>\n",
       "<table border=\"1\" class=\"dataframe\">\n",
       "  <thead>\n",
       "    <tr style=\"text-align: right;\">\n",
       "      <th></th>\n",
       "      <th>Age</th>\n",
       "      <th>RestingBP</th>\n",
       "      <th>Cholesterol</th>\n",
       "      <th>FastingBS</th>\n",
       "      <th>MaxHR</th>\n",
       "      <th>Oldpeak</th>\n",
       "      <th>HeartDisease</th>\n",
       "    </tr>\n",
       "  </thead>\n",
       "  <tbody>\n",
       "    <tr>\n",
       "      <th>count</th>\n",
       "      <td>918.000000</td>\n",
       "      <td>918.000000</td>\n",
       "      <td>918.000000</td>\n",
       "      <td>918.000000</td>\n",
       "      <td>918.000000</td>\n",
       "      <td>918.000000</td>\n",
       "      <td>918.000000</td>\n",
       "    </tr>\n",
       "    <tr>\n",
       "      <th>mean</th>\n",
       "      <td>53.510893</td>\n",
       "      <td>132.396514</td>\n",
       "      <td>198.799564</td>\n",
       "      <td>0.233115</td>\n",
       "      <td>136.809368</td>\n",
       "      <td>0.887364</td>\n",
       "      <td>0.553377</td>\n",
       "    </tr>\n",
       "    <tr>\n",
       "      <th>std</th>\n",
       "      <td>9.432617</td>\n",
       "      <td>18.514154</td>\n",
       "      <td>109.384145</td>\n",
       "      <td>0.423046</td>\n",
       "      <td>25.460334</td>\n",
       "      <td>1.066570</td>\n",
       "      <td>0.497414</td>\n",
       "    </tr>\n",
       "    <tr>\n",
       "      <th>min</th>\n",
       "      <td>28.000000</td>\n",
       "      <td>0.000000</td>\n",
       "      <td>0.000000</td>\n",
       "      <td>0.000000</td>\n",
       "      <td>60.000000</td>\n",
       "      <td>-2.600000</td>\n",
       "      <td>0.000000</td>\n",
       "    </tr>\n",
       "    <tr>\n",
       "      <th>25%</th>\n",
       "      <td>47.000000</td>\n",
       "      <td>120.000000</td>\n",
       "      <td>173.250000</td>\n",
       "      <td>0.000000</td>\n",
       "      <td>120.000000</td>\n",
       "      <td>0.000000</td>\n",
       "      <td>0.000000</td>\n",
       "    </tr>\n",
       "    <tr>\n",
       "      <th>50%</th>\n",
       "      <td>54.000000</td>\n",
       "      <td>130.000000</td>\n",
       "      <td>223.000000</td>\n",
       "      <td>0.000000</td>\n",
       "      <td>138.000000</td>\n",
       "      <td>0.600000</td>\n",
       "      <td>1.000000</td>\n",
       "    </tr>\n",
       "    <tr>\n",
       "      <th>75%</th>\n",
       "      <td>60.000000</td>\n",
       "      <td>140.000000</td>\n",
       "      <td>267.000000</td>\n",
       "      <td>0.000000</td>\n",
       "      <td>156.000000</td>\n",
       "      <td>1.500000</td>\n",
       "      <td>1.000000</td>\n",
       "    </tr>\n",
       "    <tr>\n",
       "      <th>max</th>\n",
       "      <td>77.000000</td>\n",
       "      <td>200.000000</td>\n",
       "      <td>603.000000</td>\n",
       "      <td>1.000000</td>\n",
       "      <td>202.000000</td>\n",
       "      <td>6.200000</td>\n",
       "      <td>1.000000</td>\n",
       "    </tr>\n",
       "  </tbody>\n",
       "</table>\n",
       "</div>"
      ],
      "text/plain": [
       "              Age   RestingBP  Cholesterol   FastingBS       MaxHR  \\\n",
       "count  918.000000  918.000000   918.000000  918.000000  918.000000   \n",
       "mean    53.510893  132.396514   198.799564    0.233115  136.809368   \n",
       "std      9.432617   18.514154   109.384145    0.423046   25.460334   \n",
       "min     28.000000    0.000000     0.000000    0.000000   60.000000   \n",
       "25%     47.000000  120.000000   173.250000    0.000000  120.000000   \n",
       "50%     54.000000  130.000000   223.000000    0.000000  138.000000   \n",
       "75%     60.000000  140.000000   267.000000    0.000000  156.000000   \n",
       "max     77.000000  200.000000   603.000000    1.000000  202.000000   \n",
       "\n",
       "          Oldpeak  HeartDisease  \n",
       "count  918.000000    918.000000  \n",
       "mean     0.887364      0.553377  \n",
       "std      1.066570      0.497414  \n",
       "min     -2.600000      0.000000  \n",
       "25%      0.000000      0.000000  \n",
       "50%      0.600000      1.000000  \n",
       "75%      1.500000      1.000000  \n",
       "max      6.200000      1.000000  "
      ]
     },
     "execution_count": 7,
     "metadata": {},
     "output_type": "execute_result"
    }
   ],
   "source": [
    "heart_df.describe()"
   ]
  },
  {
   "cell_type": "markdown",
   "metadata": {},
   "source": [
    "- Count adalah jumlah sampel pada data.\n",
    "- Mean adalah nilai rata-rata.\n",
    "- Std adalah standar deviasi.\n",
    "- Min yaitu nilai minimum.\n",
    "- 25% adalah kuartil pertama.\n",
    "- 50% adalah kuartil kedua.\n",
    "- 75% adalah kuartil ketiga.\n",
    "- Max adalah nilai maksimum."
   ]
  },
  {
   "cell_type": "markdown",
   "metadata": {},
   "source": [
    "### Data Visualization\n",
    "\n",
    "Visualisasi data dilakukan untuk memahami pola dan hubungan antar variabel dalam dataset. Dengan menggunakan grafik seperti histogram, scatter plot, dan heatmap, data dapat ditampilkan dengan lebih intuitif sehingga memudahkan analisis. Teknik visualisasi yang tepat dapat membantu dalam mengidentifikasi tren, distribusi, serta anomali yang mungkin terjadi dalam data."
   ]
  },
  {
   "cell_type": "code",
   "execution_count": 8,
   "metadata": {
    "execution": {
     "iopub.execute_input": "2025-05-23T19:08:57.503629Z",
     "iopub.status.busy": "2025-05-23T19:08:57.503325Z",
     "iopub.status.idle": "2025-05-23T19:08:57.756688Z",
     "shell.execute_reply": "2025-05-23T19:08:57.755480Z",
     "shell.execute_reply.started": "2025-05-23T19:08:57.503604Z"
    },
    "trusted": true
   },
   "outputs": [
    {
     "data": {
      "image/png": "[encoded data removed]",
      "text/plain": [
       "<Figure size 640x480 with 1 Axes>"
      ]
     },
     "metadata": {},
     "output_type": "display_data"
    }
   ],
   "source": [
    "sns.countplot(x='HeartDisease', data=heart_df)\n",
    "plt.title('Distribusi Pasien dengan Penyakit Jantung')\n",
    "plt.xlabel('Heart Disease (0 = Tidak, 1 = Ya)')\n",
    "plt.ylabel('Jumlah Pasien')\n",
    "plt.show()"
   ]
  },
  {
   "cell_type": "code",
   "execution_count": 9,
   "metadata": {
    "execution": {
     "iopub.execute_input": "2025-05-23T19:08:57.758123Z",
     "iopub.status.busy": "2025-05-23T19:08:57.757795Z",
     "iopub.status.idle": "2025-05-23T19:08:58.053536Z",
     "shell.execute_reply": "2025-05-23T19:08:58.052234Z",
     "shell.execute_reply.started": "2025-05-23T19:08:57.758098Z"
    },
    "trusted": true
   },
   "outputs": [
    {
     "name": "stderr",
     "output_type": "stream",
     "text": [
      "/usr/local/lib/python3.11/dist-packages/seaborn/_oldcore.py:1119: FutureWarning: use_inf_as_na option is deprecated and will be removed in a future version. Convert inf values to NaN before operating instead.\n",
      "  with pd.option_context('mode.use_inf_as_na', True):\n"
     ]
    },
    {
     "data": {
      "image/png": "[encoded data removed]",
      "text/plain": [
       "<Figure size 640x480 with 1 Axes>"
      ]
     },
     "metadata": {},
     "output_type": "display_data"
    }
   ],
   "source": [
    "sns.histplot(data=heart_df, x='Age', kde=True, bins=20)\n",
    "plt.title('Distribusi Usia Pasien')\n",
    "plt.xlabel('Umur')\n",
    "plt.ylabel('Jumlah')\n",
    "plt.show()"
   ]
  },
  {
   "cell_type": "code",
   "execution_count": 10,
   "metadata": {
    "execution": {
     "iopub.execute_input": "2025-05-23T19:08:58.055104Z",
     "iopub.status.busy": "2025-05-23T19:08:58.054725Z",
     "iopub.status.idle": "2025-05-23T19:08:58.207854Z",
     "shell.execute_reply": "2025-05-23T19:08:58.206882Z",
     "shell.execute_reply.started": "2025-05-23T19:08:58.055075Z"
    },
    "trusted": true
   },
   "outputs": [
    {
     "data": {
      "image/png": "[encoded data removed]",
      "text/plain": [
       "<Figure size 640x480 with 1 Axes>"
      ]
     },
     "metadata": {},
     "output_type": "display_data"
    }
   ],
   "source": [
    "sns.boxplot(x='HeartDisease', y='Age', data=heart_df)\n",
    "plt.title('Usia Pasien Berdasarkan Status Penyakit Jantung')\n",
    "plt.xlabel('Heart Disease')\n",
    "plt.ylabel('Umur')\n",
    "plt.show()"
   ]
  },
  {
   "cell_type": "code",
   "execution_count": null,
   "metadata": {
    "execution": {
     "iopub.execute_input": "2025-05-23T19:08:58.210943Z",
     "iopub.status.busy": "2025-05-23T19:08:58.210644Z"
    },
    "trusted": true
   },
   "outputs": [],
   "source": [
    "correlation = heart_df.corr(numeric_only=True)\n",
    "plt.figure(figsize=(10, 6))\n",
    "sns.heatmap(correlation, annot=True, cmap='coolwarm')\n",
    "plt.title('Matriks Korelasi Antar Fitur Numerik')\n",
    "plt.show()"
   ]
  },
  {
   "cell_type": "code",
   "execution_count": null,
   "metadata": {
    "trusted": true
   },
   "outputs": [],
   "source": [
    "sns.countplot(x='ChestPainType', hue='HeartDisease', data=heart_df)\n",
    "plt.title('Tipe Nyeri Dada vs Penyakit Jantung')\n",
    "plt.xlabel('Tipe Nyeri Dada')\n",
    "plt.ylabel('Jumlah Pasien')\n",
    "plt.show()"
   ]
  },
  {
   "cell_type": "code",
   "execution_count": 13,
   "metadata": {
    "execution": {
     "iopub.execute_input": "2025-05-23T19:08:58.796266Z",
     "iopub.status.busy": "2025-05-23T19:08:58.795888Z",
     "iopub.status.idle": "2025-05-23T19:08:58.945337Z",
     "shell.execute_reply": "2025-05-23T19:08:58.944224Z",
     "shell.execute_reply.started": "2025-05-23T19:08:58.796234Z"
    },
    "trusted": true
   },
   "outputs": [
    {
     "data": {
      "image/png": "[encoded data removed]",
      "text/plain": [
       "<Figure size 640x480 with 1 Axes>"
      ]
     },
     "metadata": {},
     "output_type": "display_data"
    }
   ],
   "source": [
    "sns.boxplot(x='ExerciseAngina', y='Oldpeak', data=heart_df)\n",
    "plt.title('Oldpeak berdasarkan Exercise Angina')\n",
    "plt.show()"
   ]
  },
  {
   "cell_type": "markdown",
   "metadata": {},
   "source": [
    "### Insight\n",
    "\n",
    "1. Dataset Overview\n",
    "- Dataset berhasil dimuat ke dalam `heart_df` dari file `heart.csv`.\n",
    "- **Jumlah data:** 918 entri pasien  \n",
    "- **Jumlah fitur:** 12 kolom — terdiri dari:\n",
    "  - **7 fitur numerik**: `Age`, `RestingBP`, `Cholesterol`, `FastingBS`, `MaxHR`, `Oldpeak`, `HeartDisease`\n",
    "  - **5 fitur kategorikal**: `Sex`, `ChestPainType`, `RestingECG`, `ExerciseAngina`, `ST_Slope`\n",
    "- **Data sudah bersih**, namun ditemukan indikasi nilai nol yang seharusnya hilang (false zero).\n",
    "\n",
    "2. Statistik Deskriptif Fitur Numerik\n",
    "\n",
    "| Fitur           | Mean   | Median | Modus | Std Dev | Insight                                                                 |\n",
    "|------------------|--------|--------|--------|---------|-------------------------------------------------------------------------|\n",
    "| **Age**          | 53.51  | 54.0   | 54.0   | 9.43    | Distribusi usia relatif normal. Sebagian besar pasien berusia 40–65.   |\n",
    "| **RestingBP**    | 132.4  | 130.0  | 120.0  | 18.51   | Tekanan darah istirahat normal, dengan variasi yang cukup besar.        |\n",
    "| **Cholesterol**  | 198.8  | 223.0  | 0.0    | 109.38  | Modus 0 tidak wajar → kemungkinan **nilai hilang terselubung** (false zero). |\n",
    "| **FastingBS**    | 0.23   | 0.0    | 0.0    | 0.42    | Mayoritas pasien tidak mengalami kadar gula puasa tinggi.              |\n",
    "| **MaxHR**        | 136.8  | 138.0  | 150.0  | 25.46   | Detak jantung maksimum cukup tinggi dan menyebar luas.                 |\n",
    "| **Oldpeak**      | 0.89   | 0.6    | 0.0    | 1.07    | Banyak pasien tidak menunjukkan depresi segmen ST.                     |\n",
    "| **HeartDisease** | 0.55   | 1.0    | 1.0    | 0.50    | Sekitar 55% pasien didiagnosis penyakit jantung.                       |\n",
    "\n",
    "3. Insight Tambahan Berdasarkan Visualisasi\n",
    "\n",
    "Distribusi Pasien dengan Penyakit Jantung\n",
    "- Mayoritas pasien (sekitar 55%) menderita penyakit jantung (`HeartDisease = 1`).\n",
    "- Terdapat ketidakseimbangan label, namun masih dalam batas aman tanpa oversampling.\n",
    "\n",
    "Distribusi Usia Pasien\n",
    "- Sebagian besar pasien berusia 40–65 tahun.\n",
    "- Distribusi usia menyerupai distribusi normal.\n",
    "- Pasien yang lebih tua memiliki risiko lebih tinggi terhadap penyakit jantung.\n",
    "\n",
    "Usia vs Status Penyakit Jantung\n",
    "- Median usia pasien dengan penyakit jantung lebih tinggi dari yang tidak.\n",
    "- Terdapat outlier: pasien muda juga bisa mengalami penyakit jantung → usia bukan satu-satunya faktor risiko.\n",
    "\n",
    "Korelasi Antar Fitur Numerik\n",
    "- Korelasi paling kuat terhadap `HeartDisease`:\n",
    "  - `Oldpeak` (positif): makin tinggi → makin tinggi risiko penyakit jantung.\n",
    "  - `MaxHR` (negatif): makin tinggi → makin rendah risiko penyakit jantung.\n",
    "- Fitur lain memiliki korelasi rendah → fitur tidak redundant.\n",
    "\n",
    "Tipe Nyeri Dada vs Penyakit Jantung\n",
    "- Tipe `ASY` (Asymptomatic) dominan pada pasien dengan penyakit jantung.\n",
    "- Tipe `ATA` dan `NAP` lebih umum pada pasien tanpa penyakit jantung.\n",
    "- Tipe nyeri dada merupakan fitur kategorikal yang **informatif dan penting** untuk prediksi.\n",
    "\n",
    "Oldpeak Berdasarkan Exercise Angina\n",
    "- Nilai `Oldpeak` lebih tinggi pada pasien dengan `ExerciseAngina = Y`.\n",
    "- Menunjukkan hubungan kuat antara `Oldpeak` dan `ExerciseAngina` sebagai indikator penyakit jantung.\n",
    "\n",
    "4. Rencana Transformasi Data\n",
    "- Beberapa fitur kategorikal yang akan dikonversi ke bentuk numerik:\n",
    "  - `Sex`\n",
    "  - `ChestPainType`\n",
    "  - `RestingECG`\n",
    "  - `ExerciseAngina`\n",
    "  - `ST_Slope`\n",
    "- Penanganan nilai anomali:\n",
    "  - Ganti nilai `0` pada kolom `Cholesterol` dengan `NaN` untuk mencerminkan missing value yang sebenarnya.\n"
   ]
  },
  {
   "cell_type": "markdown",
   "metadata": {},
   "source": [
    "## Data Preparation\n",
    "---\n",
    "\n",
    "Data Preparation adalah tahap penting sebelum melakukan pemodelan machine learning. Tujuan dari langkah ini adalah memastikan data yang digunakan memiliki kualitas yang baik, bebas dari ketidaksempurnaan, serta siap untuk digunakan dalam algoritma pemodelan.\n",
    "\n",
    "Dalam laporan ini, proses data preparation dilakukan dengan langkah-langkah berikut:\n",
    "\n",
    "1. Mengganti Nilai 0 yang Tidak Valid pada Kolom Cholesterol – Mengatasi nilai yang tidak logis dengan metode imputasi atau menggantinya sesuai distribusi data.\n",
    "2. Encoding Variabel Kategorikal – Mengubah data kategorikal menjadi format numerik yang bisa dipahami oleh model, seperti One-Hot Encoding atau Label Encoding.\n",
    "3. Membagi Data Menjadi Train dan Test Set – Memisahkan data untuk proses pelatihan dan evaluasi model guna memastikan performa yang akurat dan menghindari overfitting.\n",
    "4.  Standardisasi Fitur Numerik – Menyesuaikan rentang nilai fitur-fitur numerik dengan mentransformasi data sehingga memiliki distribusi dengan **rata-rata (mean) 0 dan standar deviasi 1**. Langkah ini penting karena beberapa algoritma _machine learning_ sensitif terhadap perbedaan skala antar fitur, yang dapat memengaruhi konvergensi dan hasil model. Proses ini umumnya dilakukan menggunakan _StandardScaler_."
   ]
  },
  {
   "cell_type": "markdown",
   "metadata": {},
   "source": [
    "### Mengganti Nilai 0 yang Tidak Valid pada Kolom Cholesterol"
   ]
  },
  {
   "cell_type": "code",
   "execution_count": 14,
   "metadata": {
    "execution": {
     "iopub.execute_input": "2025-05-23T19:08:58.946665Z",
     "iopub.status.busy": "2025-05-23T19:08:58.946310Z",
     "iopub.status.idle": "2025-05-23T19:08:58.954244Z",
     "shell.execute_reply": "2025-05-23T19:08:58.953214Z",
     "shell.execute_reply.started": "2025-05-23T19:08:58.946627Z"
    },
    "trusted": true
   },
   "outputs": [],
   "source": [
    "heart_df['Cholesterol'] = heart_df['Cholesterol'].replace(0, np.nan)\n",
    "heart_df['Cholesterol'] = heart_df['Cholesterol'].fillna(heart_df['Cholesterol'].median())"
   ]
  },
  {
   "cell_type": "markdown",
   "metadata": {},
   "source": [
    "### Encoding"
   ]
  },
  {
   "cell_type": "code",
   "execution_count": 15,
   "metadata": {
    "execution": {
     "iopub.execute_input": "2025-05-23T19:08:58.955593Z",
     "iopub.status.busy": "2025-05-23T19:08:58.955259Z",
     "iopub.status.idle": "2025-05-23T19:08:58.983502Z",
     "shell.execute_reply": "2025-05-23T19:08:58.982417Z",
     "shell.execute_reply.started": "2025-05-23T19:08:58.955565Z"
    },
    "trusted": true
   },
   "outputs": [],
   "source": [
    "label_enc_cols = ['Sex', 'ExerciseAngina']\n",
    "onehot_enc_cols = ['ChestPainType', 'RestingECG', 'ST_Slope']\n",
    "\n",
    "# Label encoding\n",
    "for col in label_enc_cols:\n",
    "    le = LabelEncoder()\n",
    "    heart_df[col] = le.fit_transform(heart_df[col])\n",
    "\n",
    "# One-hot encoding\n",
    "heart_df = pd.get_dummies(heart_df, columns=onehot_enc_cols)"
   ]
  },
  {
   "cell_type": "markdown",
   "metadata": {},
   "source": [
    "### Membagi Data Menjadi Train dan Test Set"
   ]
  },
  {
   "cell_type": "code",
   "execution_count": 16,
   "metadata": {
    "execution": {
     "iopub.execute_input": "2025-05-23T19:08:58.984988Z",
     "iopub.status.busy": "2025-05-23T19:08:58.984650Z",
     "iopub.status.idle": "2025-05-23T19:08:58.997051Z",
     "shell.execute_reply": "2025-05-23T19:08:58.995659Z",
     "shell.execute_reply.started": "2025-05-23T19:08:58.984968Z"
    },
    "trusted": true
   },
   "outputs": [],
   "source": [
    "X = heart_df.drop('HeartDisease', axis=1)\n",
    "y = heart_df['HeartDisease']\n",
    "\n",
    "X_train, X_test, y_train, y_test = train_test_split(X, y, test_size=0.2, random_state=42)"
   ]
  },
  {
   "cell_type": "markdown",
   "metadata": {},
   "source": [
    "### Standardisasi Fitur Numerik"
   ]
  },
  {
   "cell_type": "code",
   "execution_count": 17,
   "metadata": {
    "execution": {
     "iopub.execute_input": "2025-05-23T19:08:58.999254Z",
     "iopub.status.busy": "2025-05-23T19:08:58.998823Z",
     "iopub.status.idle": "2025-05-23T19:08:59.024609Z",
     "shell.execute_reply": "2025-05-23T19:08:59.023381Z",
     "shell.execute_reply.started": "2025-05-23T19:08:58.999222Z"
    },
    "trusted": true
   },
   "outputs": [],
   "source": [
    "num_features = ['Age', 'RestingBP', 'Cholesterol', 'MaxHR', 'Oldpeak']\n",
    "scaler = StandardScaler()\n",
    "\n",
    "X_train_scaled = X_train.copy()\n",
    "X_train_scaled[num_features] = scaler.fit_transform(X_train[num_features])\n",
    "\n",
    "X_test_scaled = X_test.copy()\n",
    "X_test_scaled[num_features] = scaler.transform(X_test[num_features])"
   ]
  },
  {
   "cell_type": "markdown",
   "metadata": {},
   "source": [
    "## Modeling\n",
    "---\n",
    "\n",
    "Untuk menyelesaikan permasalahan prediksi risiko penyakit jantung, digunakan pendekatan supervised learning dengan tugas klasifikasi biner (risiko penyakit jantung: ada atau tidak). Proses pemodelan dilakukan melalui tahapan sebagai berikut:\n",
    "\n",
    "Modeling adalah tahap di mana data yang telah dipersiapkan digunakan untuk membangun dan melatih model machine learning. Tujuan utama dari proses ini adalah mendapatkan model yang dapat melakukan prediksi atau klasifikasi dengan tingkat akurasi tinggi.\n",
    "\n",
    "Dalam laporan ini, proses modeling dilakukan dengan tahapan berikut:\n",
    "\n",
    "1. Memilih Algoritma – Menentukan metode machine learning yang sesuai berdasarkan karakteristik data dan tujuan analisis.\n",
    "2. Melatih Model – Menggunakan data training untuk membangun model dan menyesuaikan parameter agar mencapai performa optimal."
   ]
  },
  {
   "cell_type": "markdown",
   "metadata": {},
   "source": [
    "### Memilih Algoritma"
   ]
  },
  {
   "cell_type": "code",
   "execution_count": 18,
   "metadata": {
    "execution": {
     "iopub.execute_input": "2025-05-23T19:08:59.026032Z",
     "iopub.status.busy": "2025-05-23T19:08:59.025708Z",
     "iopub.status.idle": "2025-05-23T19:08:59.034536Z",
     "shell.execute_reply": "2025-05-23T19:08:59.033448Z",
     "shell.execute_reply.started": "2025-05-23T19:08:59.026010Z"
    },
    "trusted": true
   },
   "outputs": [],
   "source": [
    "# Logistic Regression\n",
    "lr = LogisticRegression(max_iter=1000, random_state=42)\n",
    "\n",
    "# Decision Tree\n",
    "dt = DecisionTreeClassifier(random_state=42)\n",
    "\n",
    "# Random Forest\n",
    "rf = RandomForestClassifier(random_state=42)\n",
    "\n",
    "# KNN\n",
    "knn = KNeighborsClassifier(n_neighbors=5)  # Default k=5\n",
    "\n",
    "# SVM\n",
    "svm = SVC(kernel='linear', random_state=42)  # Gunakan kernel linear untuk interpretabilitas\n"
   ]
  },
  {
   "cell_type": "markdown",
   "metadata": {},
   "source": [
    "### Melatih Model"
   ]
  },
  {
   "cell_type": "code",
   "execution_count": 19,
   "metadata": {
    "execution": {
     "iopub.execute_input": "2025-05-23T19:08:59.035834Z",
     "iopub.status.busy": "2025-05-23T19:08:59.035536Z",
     "iopub.status.idle": "2025-05-23T19:08:59.147810Z",
     "shell.execute_reply": "2025-05-23T19:08:59.147166Z",
     "shell.execute_reply.started": "2025-05-23T19:08:59.035798Z"
    },
    "trusted": true
   },
   "outputs": [
    {
     "name": "stdout",
     "output_type": "stream",
     "text": [
      "Logistic Regression - accuracy_train: 0.8623978201634878\n",
      "Logistic Regression - accuracy_test: 0.8641304347826086\n"
     ]
    }
   ],
   "source": [
    "lr.fit(X_train_scaled, y_train)\n",
    "\n",
    "# Prediksi\n",
    "y_pred_train_lr = lr.predict(X_train_scaled)\n",
    "y_pred_test_lr = lr.predict(X_test_scaled)\n",
    "\n",
    "# Akurasi\n",
    "accuracy_train_lr = accuracy_score(y_train, y_pred_train_lr)\n",
    "accuracy_test_lr = accuracy_score(y_test, y_pred_test_lr)\n",
    "\n",
    "print('Logistic Regression - accuracy_train:', accuracy_train_lr)\n",
    "print('Logistic Regression - accuracy_test:', accuracy_test_lr)"
   ]
  },
  {
   "cell_type": "code",
   "execution_count": 20,
   "metadata": {
    "execution": {
     "iopub.execute_input": "2025-05-23T19:08:59.151932Z",
     "iopub.status.busy": "2025-05-23T19:08:59.148446Z",
     "iopub.status.idle": "2025-05-23T19:08:59.175695Z",
     "shell.execute_reply": "2025-05-23T19:08:59.174896Z",
     "shell.execute_reply.started": "2025-05-23T19:08:59.151902Z"
    },
    "trusted": true
   },
   "outputs": [
    {
     "name": "stdout",
     "output_type": "stream",
     "text": [
      "Decision Tree - accuracy_train: 1.0\n",
      "Decision Tree - accuracy_test: 0.782608695652174\n"
     ]
    }
   ],
   "source": [
    "dt.fit(X_train_scaled, y_train)\n",
    "\n",
    "# Prediksi\n",
    "y_pred_train_dt = dt.predict(X_train_scaled)\n",
    "y_pred_test_dt = dt.predict(X_test_scaled)\n",
    "\n",
    "# Akurasi\n",
    "accuracy_train_dt = accuracy_score(y_train, y_pred_train_dt)\n",
    "accuracy_test_dt = accuracy_score(y_test, y_pred_test_dt)\n",
    "\n",
    "print('Decision Tree - accuracy_train:', accuracy_train_dt)\n",
    "print('Decision Tree - accuracy_test:', accuracy_test_dt)\n"
   ]
  },
  {
   "cell_type": "code",
   "execution_count": 21,
   "metadata": {
    "execution": {
     "iopub.execute_input": "2025-05-23T19:08:59.177452Z",
     "iopub.status.busy": "2025-05-23T19:08:59.176535Z",
     "iopub.status.idle": "2025-05-23T19:08:59.438160Z",
     "shell.execute_reply": "2025-05-23T19:08:59.437169Z",
     "shell.execute_reply.started": "2025-05-23T19:08:59.177423Z"
    },
    "trusted": true
   },
   "outputs": [
    {
     "name": "stdout",
     "output_type": "stream",
     "text": [
      "Random Forest - accuracy_train: 1.0\n",
      "Random Forest - accuracy_test: 0.8586956521739131\n"
     ]
    }
   ],
   "source": [
    "rf.fit(X_train_scaled, y_train)\n",
    "\n",
    "# Prediksi\n",
    "y_pred_train_rf = rf.predict(X_train_scaled)\n",
    "y_pred_test_rf = rf.predict(X_test_scaled)\n",
    "\n",
    "# Akurasi\n",
    "accuracy_train_rf = accuracy_score(y_train, y_pred_train_rf)\n",
    "accuracy_test_rf = accuracy_score(y_test, y_pred_test_rf)\n",
    "\n",
    "print('Random Forest - accuracy_train:', accuracy_train_rf)\n",
    "print('Random Forest - accuracy_test:', accuracy_test_rf)"
   ]
  },
  {
   "cell_type": "code",
   "execution_count": 22,
   "metadata": {
    "execution": {
     "iopub.execute_input": "2025-05-23T19:08:59.439651Z",
     "iopub.status.busy": "2025-05-23T19:08:59.439252Z",
     "iopub.status.idle": "2025-05-23T19:08:59.474813Z",
     "shell.execute_reply": "2025-05-23T19:08:59.473869Z",
     "shell.execute_reply.started": "2025-05-23T19:08:59.439620Z"
    },
    "trusted": true
   },
   "outputs": [
    {
     "name": "stdout",
     "output_type": "stream",
     "text": [
      "GaussianNB - accuracy_train: 0.8501362397820164\n",
      "GaussianNB - accuracy_test: 0.8369565217391305\n"
     ]
    }
   ],
   "source": [
    "nb = GaussianNB().fit(X_train_scaled, y_train)\n",
    "nb.fit(X_train_scaled, y_train)\n",
    "\n",
    "# Prediksi\n",
    "y_pred_train_nb = nb.predict(X_train_scaled)\n",
    "y_pred_test_nb = nb.predict(X_test_scaled)\n",
    "\n",
    "# Akurasi\n",
    "accuracy_train_nb = accuracy_score(y_train, y_pred_train_nb)\n",
    "accuracy_test_nb = accuracy_score(y_test, y_pred_test_nb)\n",
    "\n",
    "print('GaussianNB - accuracy_train:', accuracy_train_nb)\n",
    "print('GaussianNB - accuracy_test:', accuracy_test_nb)"
   ]
  },
  {
   "cell_type": "code",
   "execution_count": 23,
   "metadata": {
    "execution": {
     "iopub.execute_input": "2025-05-23T19:08:59.476357Z",
     "iopub.status.busy": "2025-05-23T19:08:59.475861Z",
     "iopub.status.idle": "2025-05-23T19:08:59.588487Z",
     "shell.execute_reply": "2025-05-23T19:08:59.587629Z",
     "shell.execute_reply.started": "2025-05-23T19:08:59.476319Z"
    },
    "trusted": true
   },
   "outputs": [
    {
     "name": "stdout",
     "output_type": "stream",
     "text": [
      "KNN - accuracy_train: 0.8896457765667575\n",
      "KNN - accuracy_test: 0.8586956521739131\n"
     ]
    }
   ],
   "source": [
    "knn.fit(X_train_scaled, y_train)\n",
    "\n",
    "# Prediksi\n",
    "y_pred_train_knn = knn.predict(X_train_scaled)\n",
    "y_pred_test_knn = knn.predict(X_test_scaled)\n",
    "\n",
    "# Akurasi\n",
    "accuracy_train_knn = accuracy_score(y_train, y_pred_train_knn)\n",
    "accuracy_test_knn = accuracy_score(y_test, y_pred_test_knn)\n",
    "\n",
    "print('KNN - accuracy_train:', accuracy_train_knn)\n",
    "print('KNN - accuracy_test:', accuracy_test_knn)\n"
   ]
  },
  {
   "cell_type": "code",
   "execution_count": 24,
   "metadata": {
    "execution": {
     "iopub.execute_input": "2025-05-23T19:08:59.590412Z",
     "iopub.status.busy": "2025-05-23T19:08:59.590040Z",
     "iopub.status.idle": "2025-05-23T19:08:59.628135Z",
     "shell.execute_reply": "2025-05-23T19:08:59.627069Z",
     "shell.execute_reply.started": "2025-05-23T19:08:59.590389Z"
    },
    "trusted": true
   },
   "outputs": [
    {
     "name": "stdout",
     "output_type": "stream",
     "text": [
      "SVM - accuracy_train: 0.8732970027247956\n",
      "SVM - accuracy_test: 0.8586956521739131\n"
     ]
    }
   ],
   "source": [
    "svm.fit(X_train_scaled, y_train)\n",
    "\n",
    "# Prediksi\n",
    "y_pred_train_svm = svm.predict(X_train_scaled)\n",
    "y_pred_test_svm = svm.predict(X_test_scaled)\n",
    "\n",
    "# Akurasi\n",
    "accuracy_train_svm = accuracy_score(y_train, y_pred_train_svm)\n",
    "accuracy_test_svm = accuracy_score(y_test, y_pred_test_svm)\n",
    "\n",
    "print('SVM - accuracy_train:', accuracy_train_svm)\n",
    "print('SVM - accuracy_test:', accuracy_test_svm)"
   ]
  },
  {
   "cell_type": "markdown",
   "metadata": {},
   "source": [
    "## Evaluation\n",
    "\n",
    "Tahap evaluasi dilakukan untuk menilai performa model yang telah dibangun. Metrik seperti akurasi, precision, recall, dan F1-score digunakan untuk mengukur seberapa baik model dalam membuat prediksi. Selain itu, dilakukan analisis terhadap error dan bias yang mungkin terjadi guna meningkatkan kualitas model serta memastikan hasil yang lebih akurat. Jika diperlukan, teknik optimasi seperti tuning hyperparameter atau pemilihan fitur dapat diterapkan untuk meningkatkan performa model.\n",
    "\n",
    "Untuk mengevaluasi performa model, digunakan empat metrik utama yaitu:\n",
    "\n",
    "- **Accuracy**: proporsi prediksi yang benar dari seluruh prediksi.\n",
    "- **Precision**: proporsi prediksi positif yang benar dari seluruh prediksi positif.\n",
    "- **Recall**: proporsi data positif yang berhasil teridentifikasi.\n",
    "- **F1-Score**: rata-rata harmonik dari precision dan recall."
   ]
  },
  {
   "cell_type": "code",
   "execution_count": 25,
   "metadata": {
    "execution": {
     "iopub.execute_input": "2025-05-23T19:08:59.629492Z",
     "iopub.status.busy": "2025-05-23T19:08:59.629094Z",
     "iopub.status.idle": "2025-05-23T19:09:00.915893Z",
     "shell.execute_reply": "2025-05-23T19:09:00.914791Z",
     "shell.execute_reply.started": "2025-05-23T19:08:59.629462Z"
    },
    "trusted": true
   },
   "outputs": [
    {
     "data": {
      "image/png": "[encoded data removed]",
      "text/plain": [
       "<Figure size 600x500 with 2 Axes>"
      ]
     },
     "metadata": {},
     "output_type": "display_data"
    },
    {
     "data": {
      "image/png": "[encoded data removed]",
      "text/plain": [
       "<Figure size 600x500 with 2 Axes>"
      ]
     },
     "metadata": {},
     "output_type": "display_data"
    },
    {
     "data": {
      "image/png": "[encoded data removed]",
      "text/plain": [
       "<Figure size 600x500 with 2 Axes>"
      ]
     },
     "metadata": {},
     "output_type": "display_data"
    },
    {
     "data": {
      "image/png": "[encoded data removed]",
      "text/plain": [
       "<Figure size 600x500 with 2 Axes>"
      ]
     },
     "metadata": {},
     "output_type": "display_data"
    },
    {
     "data": {
      "image/png": "[encoded data removed]",
      "text/plain": [
       "<Figure size 600x500 with 2 Axes>"
      ]
     },
     "metadata": {},
     "output_type": "display_data"
    },
    {
     "data": {
      "image/png": "[encoded data removed]",
      "text/plain": [
       "<Figure size 600x500 with 2 Axes>"
      ]
     },
     "metadata": {},
     "output_type": "display_data"
    },
    {
     "name": "stdout",
     "output_type": "stream",
     "text": [
      "                          Model  Accuracy  Precision    Recall  F1-Score\n",
      "0     K-Nearest Neighbors (KNN)  0.858696   0.860400  0.858696  0.859139\n",
      "1  Support Vector Machine (SVM)  0.858696   0.861753  0.858696  0.859307\n",
      "2                 Decision Tree  0.782609   0.800381  0.782609  0.784002\n",
      "3                 Random Forest  0.858696   0.860400  0.858696  0.859139\n",
      "4           Logistic Regression  0.864130   0.867953  0.864130  0.864787\n",
      "5                   Naive Bayes  0.836957   0.848806  0.836957  0.838043\n"
     ]
    }
   ],
   "source": [
    "def evaluate_model(model, X_test_scaled, y_test, model_name=\"Model\"):\n",
    "    y_pred = model.predict(X_test_scaled)\n",
    "    cm = confusion_matrix(y_test, y_pred)\n",
    "\n",
    "    results = {\n",
    "        'Model': model_name,\n",
    "        'Confusion Matrix': cm,\n",
    "        'Accuracy': accuracy_score(y_test, y_pred),\n",
    "        'Precision': precision_score(y_test, y_pred, average='weighted'),\n",
    "        'Recall': recall_score(y_test, y_pred, average='weighted'),\n",
    "        'F1-Score': f1_score(y_test, y_pred, average='weighted'),\n",
    "        'Classification Report': classification_report(y_test, y_pred, output_dict=True)\n",
    "    }\n",
    "\n",
    "    plt.figure(figsize=(6, 5))\n",
    "    sns.heatmap(cm, annot=True, fmt=\"d\", cmap=\"Blues\", xticklabels=np.unique(y_test), yticklabels=np.unique(y_test))\n",
    "    plt.xlabel(\"Predicted Label\")\n",
    "    plt.ylabel(\"True Label\")\n",
    "    plt.title(f\"Confusion Matrix - {model_name}\")\n",
    "    plt.show()\n",
    "\n",
    "    return results\n",
    "\n",
    "models = {\n",
    "    'K-Nearest Neighbors (KNN)': knn,\n",
    "    'Support Vector Machine (SVM)': svm,\n",
    "    'Decision Tree': dt,\n",
    "    'Random Forest': rf,\n",
    "    'Logistic Regression': lr,\n",
    "    'Naive Bayes': nb\n",
    "}\n",
    "\n",
    "results = {name: evaluate_model(model, X_test_scaled, y_test, name) for name, model in models.items()}\n",
    "\n",
    "summary_df = pd.DataFrame([\n",
    "    {\n",
    "        'Model': name,\n",
    "        'Accuracy': metrics['Accuracy'],\n",
    "        'Precision': metrics['Precision'],\n",
    "        'Recall': metrics['Recall'],\n",
    "        'F1-Score': metrics['F1-Score']\n",
    "    }\n",
    "    for name, metrics in results.items()\n",
    "])\n",
    "\n",
    "print(summary_df)\n"
   ]
  },
  {
   "cell_type": "markdown",
   "metadata": {},
   "source": [
    "### Tuning Model\n",
    "\n",
    "Selanjutnya dilakukan proses roses tuning hyperparameter untuk model Decision Tree menggunakan teknik RandomizedSearchCV yang bertujuan untuk mencari kombinasi hyperparameter terbaik untuk model Decision Tree guna meningkatkan performa prediksi penyakit jantung."
   ]
  },
  {
   "cell_type": "code",
   "execution_count": 26,
   "metadata": {
    "execution": {
     "iopub.execute_input": "2025-05-23T19:09:00.918269Z",
     "iopub.status.busy": "2025-05-23T19:09:00.917897Z",
     "iopub.status.idle": "2025-05-23T19:09:04.384942Z",
     "shell.execute_reply": "2025-05-23T19:09:04.383834Z",
     "shell.execute_reply.started": "2025-05-23T19:09:00.918242Z"
    },
    "trusted": true
   },
   "outputs": [
    {
     "name": "stdout",
     "output_type": "stream",
     "text": [
      "Best Parameters: {'min_samples_split': 3, 'min_samples_leaf': 7, 'max_features': 'log2', 'max_depth': 40, 'criterion': 'gini'}\n",
      "Best Accuracy: 0.8392228124126362\n"
     ]
    }
   ],
   "source": [
    "param_dist = {\n",
    "    'criterion': ['gini', 'entropy'],\n",
    "    'max_depth': [5, 10, 20, 30, 40, 50, None],  \n",
    "    'min_samples_split': np.arange(2, 20, 1),  \n",
    "    'min_samples_leaf': np.arange(1, 20, 1), \n",
    "    'max_features': ['sqrt', 'log2', None]\n",
    "}\n",
    "\n",
    "random_search = RandomizedSearchCV(DecisionTreeClassifier(), param_distributions=param_dist, \n",
    "                                   n_iter=100, cv=5, scoring='accuracy', n_jobs=-1, random_state=42)\n",
    "random_search.fit(X_train, y_train)\n",
    "\n",
    "print(\"Best Parameters:\", random_search.best_params_)\n",
    "print(\"Best Accuracy:\", random_search.best_score_)\n",
    "\n",
    "best_tree = random_search.best_estimator_"
   ]
  },
  {
   "cell_type": "markdown",
   "metadata": {},
   "source": [
    "### Modeling dengan Voting Classifier\n",
    "\n",
    "Model ini menggunakan pendekatan Voting Classifier untuk menggabungkan beberapa algoritma machine learning guna meningkatkan akurasi prediksi. Model yang digunakan mencakup Decision Tree, Random Forest, Support Vector Machine (SVM), Gaussian Naïve Bayes, Logistic Regression, K-Nearest Neighbors (KNN), dan XGBoost. Dengan teknik soft voting, setiap model memberikan probabilitas prediksi yang kemudian dikombinasikan berdasarkan bobot tertentu. Model ini dilatih menggunakan data training dan diuji pada data test, menghasilkan metrik akurasi untuk masing-masing model serta keseluruhan Voting Classifier. Tujuan dari pendekatan ini adalah meningkatkan kinerja model dengan memanfaatkan keunggulan dari masing-masing metode."
   ]
  },
  {
   "cell_type": "code",
   "execution_count": 30,
   "metadata": {
    "execution": {
     "iopub.execute_input": "2025-05-23T19:11:25.069644Z",
     "iopub.status.busy": "2025-05-23T19:11:25.069351Z",
     "iopub.status.idle": "2025-05-23T19:11:26.062128Z",
     "shell.execute_reply": "2025-05-23T19:11:26.061021Z",
     "shell.execute_reply.started": "2025-05-23T19:11:25.069623Z"
    },
    "trusted": true
   },
   "outputs": [
    {
     "name": "stdout",
     "output_type": "stream",
     "text": [
      "--- Voting Classifier Metrics ---\n",
      "Accuracy: 0.8696\n",
      "Precision: 0.8712\n",
      "Recall: 0.8696\n",
      "F1-Score: 0.8700\n",
      "              precision    recall  f1-score   support\n",
      "\n",
      "           0       0.83      0.87      0.85        77\n",
      "           1       0.90      0.87      0.89       107\n",
      "\n",
      "    accuracy                           0.87       184\n",
      "   macro avg       0.87      0.87      0.87       184\n",
      "weighted avg       0.87      0.87      0.87       184\n",
      "\n",
      "------------------------------\n",
      "--- DT Metrics ---\n",
      "Accuracy: 0.8315\n",
      "Precision: 0.8328\n",
      "Recall: 0.8315\n",
      "F1-Score: 0.8319\n",
      "              precision    recall  f1-score   support\n",
      "\n",
      "           0       0.79      0.82      0.80        77\n",
      "           1       0.87      0.84      0.85       107\n",
      "\n",
      "    accuracy                           0.83       184\n",
      "   macro avg       0.83      0.83      0.83       184\n",
      "weighted avg       0.83      0.83      0.83       184\n",
      "\n",
      "------------------------------\n",
      "--- RF Metrics ---\n",
      "Accuracy: 0.8804\n",
      "Precision: 0.8820\n",
      "Recall: 0.8804\n",
      "F1-Score: 0.8808\n",
      "              precision    recall  f1-score   support\n",
      "\n",
      "           0       0.84      0.88      0.86        77\n",
      "           1       0.91      0.88      0.90       107\n",
      "\n",
      "    accuracy                           0.88       184\n",
      "   macro avg       0.88      0.88      0.88       184\n",
      "weighted avg       0.88      0.88      0.88       184\n",
      "\n",
      "------------------------------\n",
      "--- SVM Metrics ---\n",
      "Accuracy: 0.8587\n",
      "Precision: 0.8604\n",
      "Recall: 0.8587\n",
      "F1-Score: 0.8591\n",
      "              precision    recall  f1-score   support\n",
      "\n",
      "           0       0.81      0.86      0.84        77\n",
      "           1       0.89      0.86      0.88       107\n",
      "\n",
      "    accuracy                           0.86       184\n",
      "   macro avg       0.85      0.86      0.86       184\n",
      "weighted avg       0.86      0.86      0.86       184\n",
      "\n",
      "------------------------------\n",
      "--- NB Metrics ---\n",
      "Accuracy: 0.8370\n",
      "Precision: 0.8488\n",
      "Recall: 0.8370\n",
      "F1-Score: 0.8380\n",
      "              precision    recall  f1-score   support\n",
      "\n",
      "           0       0.76      0.90      0.82        77\n",
      "           1       0.91      0.79      0.85       107\n",
      "\n",
      "    accuracy                           0.84       184\n",
      "   macro avg       0.84      0.85      0.84       184\n",
      "weighted avg       0.85      0.84      0.84       184\n",
      "\n",
      "------------------------------\n",
      "--- LR Metrics ---\n",
      "Accuracy: 0.8641\n",
      "Precision: 0.8680\n",
      "Recall: 0.8641\n",
      "F1-Score: 0.8648\n",
      "              precision    recall  f1-score   support\n",
      "\n",
      "           0       0.81      0.88      0.84        77\n",
      "           1       0.91      0.85      0.88       107\n",
      "\n",
      "    accuracy                           0.86       184\n",
      "   macro avg       0.86      0.87      0.86       184\n",
      "weighted avg       0.87      0.86      0.86       184\n",
      "\n",
      "------------------------------\n",
      "--- KNN Metrics ---\n",
      "Accuracy: 0.8587\n",
      "Precision: 0.8604\n",
      "Recall: 0.8587\n",
      "F1-Score: 0.8591\n",
      "              precision    recall  f1-score   support\n",
      "\n",
      "           0       0.81      0.86      0.84        77\n",
      "           1       0.89      0.86      0.88       107\n",
      "\n",
      "    accuracy                           0.86       184\n",
      "   macro avg       0.85      0.86      0.86       184\n",
      "weighted avg       0.86      0.86      0.86       184\n",
      "\n",
      "------------------------------\n",
      "--- XGB Metrics ---\n",
      "Accuracy: 0.8424\n",
      "Precision: 0.8464\n",
      "Recall: 0.8424\n",
      "F1-Score: 0.8432\n",
      "              precision    recall  f1-score   support\n",
      "\n",
      "           0       0.79      0.86      0.82        77\n",
      "           1       0.89      0.83      0.86       107\n",
      "\n",
      "    accuracy                           0.84       184\n",
      "   macro avg       0.84      0.84      0.84       184\n",
      "weighted avg       0.85      0.84      0.84       184\n",
      "\n",
      "------------------------------\n",
      "\n",
      "--- Summary DataFrame ---\n",
      "               Model  Accuracy  Precision    Recall  F1-Score\n",
      "0  Voting Classifier  0.869565   0.871212  0.869565  0.869974\n",
      "1                 DT  0.831522   0.832792  0.831522  0.831934\n",
      "2                 RF  0.880435   0.882024  0.880435  0.880810\n",
      "3                SVM  0.858696   0.860400  0.858696  0.859139\n",
      "4                 NB  0.836957   0.848806  0.836957  0.838043\n",
      "5                 LR  0.864130   0.867953  0.864130  0.864787\n",
      "6                KNN  0.858696   0.860400  0.858696  0.859139\n",
      "7                XGB  0.842391   0.846359  0.842391  0.843153\n"
     ]
    }
   ],
   "source": [
    "tree = DecisionTreeClassifier(**random_search.best_params_)\n",
    "rf = RandomForestClassifier(n_estimators=200)\n",
    "svm = SVC(probability=True)\n",
    "nb = GaussianNB()\n",
    "lr = LogisticRegression(max_iter=1000)\n",
    "knn = KNeighborsClassifier(n_neighbors=5)\n",
    "xgb = XGBClassifier(n_estimators=200, learning_rate=0.1)\n",
    "\n",
    "voting_clf = VotingClassifier(\n",
    "    estimators=[\n",
    "        ('dt', tree),\n",
    "        ('rf', rf),\n",
    "        ('svm', svm),\n",
    "        ('nb', nb),\n",
    "        ('lr', lr),\n",
    "        ('knn', knn),\n",
    "        ('xgb', xgb)\n",
    "    ],\n",
    "    voting='soft', \n",
    "    weights=[1,2,1,1,2,2,1]\n",
    ")\n",
    "\n",
    "voting_clf.fit(X_train_scaled, y_train)\n",
    "\n",
    "model_performance_data = []\n",
    "\n",
    "# Evaluasi Voting Classifier\n",
    "y_pred_voting_clf = voting_clf.predict(X_test_scaled)\n",
    "accuracy_voting_clf = accuracy_score(y_test, y_pred_voting_clf)\n",
    "precision_voting_clf = precision_score(y_test, y_pred_voting_clf, average='weighted', zero_division=0)\n",
    "recall_voting_clf = recall_score(y_test, y_pred_voting_clf, average='weighted', zero_division=0)\n",
    "f1_voting_clf = f1_score(y_test, y_pred_voting_clf, average='weighted', zero_division=0)\n",
    "\n",
    "model_performance_data.append({\n",
    "    'Model': 'Voting Classifier',\n",
    "    'Accuracy': accuracy_voting_clf,\n",
    "    'Precision': precision_voting_clf,\n",
    "    'Recall': recall_voting_clf,\n",
    "    'F1-Score': f1_voting_clf\n",
    "})\n",
    "\n",
    "print(\"--- Voting Classifier Metrics ---\")\n",
    "print(f\"Accuracy: {accuracy_voting_clf:.4f}\")\n",
    "print(f\"Precision: {precision_voting_clf:.4f}\")\n",
    "print(f\"Recall: {recall_voting_clf:.4f}\")\n",
    "print(f\"F1-Score: {f1_voting_clf:.4f}\")\n",
    "print(classification_report(y_test, y_pred_voting_clf, zero_division=0))\n",
    "print(\"-\" * 30)\n",
    "\n",
    "\n",
    "# Evaluasi Model Individual dalam Voting Classifier\n",
    "for name, model in voting_clf.named_estimators_.items():\n",
    "    # Model sudah di-fit sebagai bagian dari voting_clf.fit()\n",
    "    y_pred_individual = model.predict(X_test_scaled)\n",
    "    \n",
    "    accuracy_individual = accuracy_score(y_test, y_pred_individual)\n",
    "    precision_individual = precision_score(y_test, y_pred_individual, average='weighted', zero_division=0)\n",
    "    recall_individual = recall_score(y_test, y_pred_individual, average='weighted', zero_division=0)\n",
    "    f1_individual = f1_score(y_test, y_pred_individual, average='weighted', zero_division=0)\n",
    "    \n",
    "    model_performance_data.append({\n",
    "        'Model': name.upper(), \n",
    "        'Accuracy': accuracy_individual,\n",
    "        'Precision': precision_individual,\n",
    "        'Recall': recall_individual,\n",
    "        'F1-Score': f1_individual\n",
    "    })\n",
    "    \n",
    "    print(f\"--- {name.upper()} Metrics ---\")\n",
    "    print(f\"Accuracy: {accuracy_individual:.4f}\")\n",
    "    print(f\"Precision: {precision_individual:.4f}\")\n",
    "    print(f\"Recall: {recall_individual:.4f}\")\n",
    "    print(f\"F1-Score: {f1_individual:.4f}\")\n",
    "    print(classification_report(y_test, y_pred_individual, zero_division=0))\n",
    "    print(\"-\" * 30)\n",
    "\n",
    "# Membuat DataFrame dari list dictionary\n",
    "summary_df_voting = pd.DataFrame(model_performance_data)\n",
    "\n",
    "# Menampilkan DataFrame\n",
    "print(\"\\n--- Summary DataFrame ---\")\n",
    "print(summary_df_voting)"
   ]
  },
  {
   "cell_type": "markdown",
   "metadata": {},
   "source": [
    "## Hasil Akhir dan Pemilihan Model Terbaik \n",
    "\n",
    "### Metrik Evaluasi\n",
    "Untuk mengevaluasi performa model-model yang telah dilatih, digunakan empat metrik utama dalam klasifikasi:\n",
    "- **Accuracy**: Proporsi prediksi yang benar dari keseluruhan prediksi. Ini mengukur seberapa sering model membuat prediksi yang benar secara keseluruhan.\n",
    "- **Precision**: Proporsi prediksi positif yang benar dari seluruh observasi yang diprediksi positif. Metrik ini penting ketika biaya *false positive* tinggi.\n",
    "- **Recall** (Sensitivitas): Proporsi observasi positif aktual yang berhasil diidentifikasi dengan benar oleh model. Metrik ini krusial ketika biaya *false negative* tinggi.\n",
    "- **F1-Score**: Rata-rata harmonik dari *precision* dan *recall*. Metrik ini memberikan keseimbangan antara *precision* dan *recall*, berguna terutama jika ada ketidakseimbangan kelas.\n",
    "\n",
    "### Perbandingan Kinerja Model\n",
    "Berikut adalah tabel ringkasan hasil evaluasi metrik untuk setiap model yang diuji pada data tes:\n",
    "\n",
    "| Model                         | Accuracy | Precision | Recall   | F1-Score |\n",
    "|-------------------------------|----------|-----------|----------|----------|\n",
    "| K-Nearest Neighbors (KNN)     | 0.858696 | 0.860400  | 0.858696 | 0.859139 |\n",
    "| Support Vector Machine (SVM)  | 0.858696 | 0.861753  | 0.858696 | 0.859307 |\n",
    "| Decision Tree (DT)            | 0.831522 | 0.832792  | 0.831522 | 0.831934 |\n",
    "| **Random Forest (RF)** | **0.880435** | **0.882024** | **0.880435** | **0.880810** |\n",
    "| Logistic Regression (LR)      | 0.864130 | 0.867953  | 0.864130 | 0.864787 |\n",
    "| Naive Bayes (NB)              | 0.836957 | 0.848806  | 0.836957 | 0.838043 |\n",
    "| XGBoost (XGB)                 | 0.842391 | 0.846359  | 0.842391 | 0.843153 |\n",
    "| Voting Classifier             | 0.869565 | 0.871212  | 0.869565 | 0.869974 |\n",
    "\n",
    "### Pemilihan Model Terbaik \n",
    "\n",
    "Berdasarkan semua metrik evaluasi pada data uji, **Random Forest (RF)** menunjukkan performa tertinggi secara konsisten, dengan **Accuracy 0.8804, Precision 0.8820, Recall 0.8804, dan F1-Score 0.8808**. Model ini mengungguli model-model individual lainnya serta *Voting Classifier* (Accuracy 0.8696, F1-Score 0.8700).\n",
    "\n",
    "Meskipun *Voting Classifier* bertujuan untuk meningkatkan stabilitas dan performa dengan menggabungkan beberapa model, dan dalam kasus ini menunjukkan peningkatan dibandingkan beberapa model individual, Random Forest sebagai model tunggal (yang juga merupakan *ensemble* dari *decision tree*) sudah memberikan hasil yang lebih optimal di semua metrik utama.\n",
    "\n",
    "Jika interpretabilitas menjadi faktor krusial, *Logistic Regression* (Accuracy 0.8641, F1-Score 0.8648) bisa menjadi alternatif yang baik karena kemudahan dalam memahami logika pengambilan keputusannya. Namun, jika fokus utama adalah pada performa prediktif tertinggi di berbagai metrik, **Random Forest** adalah model yang dipilih sebagai solusi terbaik untuk prediksi penyakit jantung dalam penelitian ini.\n",
    "\n",
    "### Analisis Kelebihan dan Kekurangan Model Terpilih (Random Forest)\n",
    "\n",
    "* **Kelebihan Random Forest**:\n",
    "    * Umumnya memiliki akurasi yang tinggi dan robust terhadap *overfitting* dibandingkan *decision tree* tunggal.\n",
    "    * Mampu menangani data dengan fitur dalam jumlah besar dan menangkap interaksi non-linier.\n",
    "    * Dapat memberikan estimasi pentingnya fitur (*feature importance*).\n",
    "\n",
    "* **Kekurangan Random Forest**:\n",
    "    * Lebih bersifat *black box* dibandingkan *decision tree* tunggal atau regresi logistik, sehingga interpretasi detail tentang bagaimana prediksi dibuat bisa lebih sulit.\n",
    "    * Membutuhkan sumber daya komputasi yang lebih besar dan waktu pelatihan yang lebih lama, terutama dengan jumlah pohon (`n_estimators`) yang banyak.\n",
    "\n",
    "### Ringkasan *Insight* Akhir\n",
    "\n",
    "Proyek ini berhasil mengembangkan dan mengevaluasi berbagai model *machine learning* untuk prediksi penyakit jantung. Dengan menggunakan dataset klinis yang terdiri dari 918 pasien, dan setelah melalui tahapan pra-pemrosesan serta *feature engineering*, model **Random Forest** muncul sebagai model dengan performa terbaik di semua metrik evaluasi utama (Accuracy 0.8804, Precision 0.8820, Recall 0.8804, F1-Score 0.8808) pada data uji. Meskipun pendekatan *ensemble* seperti *Voting Classifier* (Accuracy 0.8696, F1-Score 0.8700) juga menunjukkan kinerja yang sangat baik dan mengungguli sebagian besar model individual, Random Forest secara individual terbukti sedikit lebih unggul. Pemilihan Random Forest sebagai model akhir didasarkan pada performa prediktifnya yang superior, dengan tetap memperhatikan bahwa jika interpretabilitas menjadi prioritas utama, model lain seperti *Logistic Regression* dapat dipertimbangkan. Solusi ini memberikan dasar yang kuat untuk pengembangan sistem pendukung keputusan klinis dalam diagnosis dini penyakit jantung."
   ]
  }
 ],
 "metadata": {
  "kaggle": {
   "accelerator": "none",
   "dataSources": [
    {
     "datasetId": 1582403,
     "sourceId": 2603715,
     "sourceType": "datasetVersion"
    }
   ],
   "dockerImageVersionId": 31040,
   "isGpuEnabled": false,
   "isInternetEnabled": true,
   "language": "python",
   "sourceType": "notebook"
  },
  "kernelspec": {
   "display_name": "Python 3",
   "language": "python",
   "name": "python3"
  },
  "language_info": {
   "codemirror_mode": {
    "name": "ipython",
    "version": 3
   },
   "file_extension": ".py",
   "mimetype": "text/x-python",
   "name": "python",
   "nbconvert_exporter": "python",
   "pygments_lexer": "ipython3",
   "version": "3.11.11"
  }
 },
 "nbformat": 4,
 "nbformat_minor": 4
}
