{
  "cells": [
    {
      "cell_type": "markdown",
      "metadata": {
        "id": "fKADPWcFKlj3"
      },
      "source": [
        "# **1. Import Library**"
      ]
    },
    {
      "cell_type": "markdown",
      "metadata": {
        "id": "LgA3ERnVn84N"
      },
      "source": [
        "Pada tahap ini, Anda perlu mengimpor beberapa pustaka (library) Python yang dibutuhkan untuk analisis data dan pembangunan model machine learning."
      ]
    },
    {
      "cell_type": "code",
      "execution_count": 40,
      "metadata": {
        "id": "BlmvjLY9M4Yj"
      },
      "outputs": [],
      "source": [
        "import numpy as np\n",
        "import pandas as pd\n",
        "import seaborn as sns\n",
        "import matplotlib.pyplot as plt\n",
        "from sklearn.model_selection import train_test_split\n",
        "from sklearn.preprocessing import OneHotEncoder, MinMaxScaler\n",
        "from sklearn.neighbors import KNeighborsClassifier\n",
        "from sklearn.tree import DecisionTreeClassifier\n",
        "from sklearn.ensemble import RandomForestClassifier\n",
        "from sklearn.svm import SVC\n",
        "from sklearn.naive_bayes import GaussianNB\n",
        "from sklearn.metrics import (\n",
        "    accuracy_score, precision_score, recall_score, f1_score, \n",
        "    confusion_matrix, classification_report\n",
        ")"
      ]
    },
    {
      "cell_type": "markdown",
      "metadata": {
        "id": "f3YIEnAFKrKL"
      },
      "source": [
        "# **2. Memuat Dataset dari Hasil Clustering**"
      ]
    },
    {
      "cell_type": "markdown",
      "metadata": {
        "id": "Ey3ItwTen_7E"
      },
      "source": [
        "Memuat dataset hasil clustering dari file CSV ke dalam variabel DataFrame."
      ]
    },
    {
      "cell_type": "code",
      "execution_count": 41,
      "metadata": {
        "id": "GHCGNTyrM5fS"
      },
      "outputs": [
        {
          "name": "stdout",
          "output_type": "stream",
          "text": [
            "  provinsi    jenis     daerah  tahun        gk        ump      peng   upah  \\\n",
            "0     ACEH  MAKANAN  PERKOTAAN   2015  293697.0  1900000.0  395136.0  11226   \n",
            "1     ACEH  MAKANAN  PERKOTAAN   2015  293697.0  1900000.0  260183.0  11226   \n",
            "2     ACEH  MAKANAN  PERKOTAAN   2015  293697.0  1900000.0  655319.0  11226   \n",
            "3     ACEH  MAKANAN  PERKOTAAN   2015  293697.0  1900000.0  466355.0  11226   \n",
            "4     ACEH  MAKANAN  PERKOTAAN   2015  293697.0  1900000.0  529945.0  11226   \n",
            "\n",
            "  gk_category  income_to_expense_ratio  poverty_to_income_ratio  Cluster  \n",
            "0      Rendah                 4.808471                 0.154577        1  \n",
            "1      Rendah                 7.302552                 0.154577        1  \n",
            "2      Rendah                 2.899351                 0.154577        1  \n",
            "3      Rendah                 4.074150                 0.154577        1  \n",
            "4      Rendah                 3.585278                 0.154577        1  \n"
          ]
        }
      ],
      "source": [
        "df = pd.read_csv(\"Dataset_clustering.csv\", delimiter=\",\")\n",
        "print(df.head())"
      ]
    },
    {
      "cell_type": "markdown",
      "metadata": {
        "id": "KkPem5eWL2UP"
      },
      "source": [
        "# **3. Data Splitting**"
      ]
    },
    {
      "cell_type": "markdown",
      "metadata": {
        "id": "YYj1rl_JNI9Y"
      },
      "source": [
        "Tahap Data Splitting bertujuan untuk memisahkan dataset menjadi dua bagian: data latih (training set) dan data uji (test set)."
      ]
    },
    {
      "cell_type": "code",
      "execution_count": 42,
      "metadata": {
        "id": "OubAW-7ONKVj"
      },
      "outputs": [
        {
          "name": "stdout",
          "output_type": "stream",
          "text": [
            "Training set shape: X_train=(2000, 14), y_train=(2000,)\n",
            "Test set shape: X_test=(500, 14), y_test=(500,)\n"
          ]
        }
      ],
      "source": [
        "categorical_columns = ['provinsi', 'jenis', 'daerah']\n",
        "\n",
        "one_hot_encoder = OneHotEncoder(sparse_output=False, drop='first') \n",
        "encoded_data = one_hot_encoder.fit_transform(df[categorical_columns])\n",
        "encoded_df = pd.DataFrame(encoded_data, columns=one_hot_encoder.get_feature_names_out(categorical_columns))\n",
        "\n",
        "df = pd.concat([df.drop(categorical_columns, axis=1), encoded_df], axis=1)\n",
        "\n",
        "scaler = MinMaxScaler()\n",
        "numeric_columns = df.select_dtypes(include=['int64', 'float64']).columns\n",
        "df[numeric_columns] = scaler.fit_transform(df[numeric_columns])\n",
        "\n",
        "X = df.drop(columns=['gk_category'])\n",
        "y = df['gk_category']\n",
        "\n",
        "X_train, X_test, y_train, y_test = train_test_split(X, y, test_size=0.2, random_state=42)\n",
        "\n",
        "print(f\"Training set shape: X_train={X_train.shape}, y_train={y_train.shape}\")\n",
        "print(f\"Test set shape: X_test={X_test.shape}, y_test={y_test.shape}\")"
      ]
    },
    {
      "cell_type": "markdown",
      "metadata": {
        "id": "IVPbB03CMhTT"
      },
      "source": [
        "# **4. Membangun Model Klasifikasi**\n"
      ]
    },
    {
      "cell_type": "markdown",
      "metadata": {
        "id": "Ned1pL9zMmBK"
      },
      "source": [
        "## **a. Membangun Model Klasifikasi**"
      ]
    },
    {
      "cell_type": "markdown",
      "metadata": {
        "id": "WAWzPOE4Nkti"
      },
      "source": [
        "Setelah memilih algoritma klasifikasi yang sesuai, langkah selanjutnya adalah melatih model menggunakan data latih.\n",
        "\n",
        "Berikut adalah rekomendasi tahapannya.\n",
        "1. Pilih algoritma klasifikasi yang sesuai, seperti Logistic Regression, Decision Tree, Random Forest, atau K-Nearest Neighbors (KNN).\n",
        "2. Latih model menggunakan data latih."
      ]
    },
    {
      "cell_type": "code",
      "execution_count": 43,
      "metadata": {
        "id": "4JYxBe87NLDk"
      },
      "outputs": [
        {
          "name": "stdout",
          "output_type": "stream",
          "text": [
            "Model training selesai.\n"
          ]
        }
      ],
      "source": [
        "knn = KNeighborsClassifier().fit(X_train, y_train)\n",
        "svm = SVC().fit(X_train, y_train)\n",
        " \n",
        "print(\"Model training selesai.\")"
      ]
    },
    {
      "cell_type": "markdown",
      "metadata": {
        "id": "seYoHNY3XU1y"
      },
      "source": [
        "K-Nearest Neighbors (KNN) adalah algoritma berbasis instance yang menentukan kelas berdasarkan mayoritas k tetangga terdekat, sederhana namun kurang efisien untuk dataset besar. Sementara itu, Support Vector Machine (SVM) mencari hyperplane optimal untuk memisahkan kelas dengan margin maksimal, lebih akurat terutama untuk data berdimensi tinggi, tetapi lebih lambat dibanding KNN."
      ]
    },
    {
      "cell_type": "markdown",
      "metadata": {
        "id": "ergzChZFEL-O"
      },
      "source": [
        "## **b. Evaluasi Model Klasifikasi**"
      ]
    },
    {
      "cell_type": "markdown",
      "metadata": {
        "id": "zOm68u-7NpLT"
      },
      "source": [
        "Berikut adalah **rekomendasi** tahapannya.\n",
        "1. Lakukan prediksi menggunakan data uji.\n",
        "2. Hitung metrik evaluasi seperti Accuracy dan F1-Score (Opsional: Precision dan Recall).\n",
        "3. Buat confusion matrix untuk melihat detail prediksi benar dan salah."
      ]
    },
    {
      "cell_type": "code",
      "execution_count": 44,
      "metadata": {
        "id": "tMq4QAssNLip"
      },
      "outputs": [
        {
          "data": {
            "image/png": "[encoded data removed]",
            "text/plain": [
              "<Figure size 600x500 with 2 Axes>"
            ]
          },
          "metadata": {},
          "output_type": "display_data"
        },
        {
          "data": {
            "image/png": "[encoded data removed]",
            "text/plain": [
              "<Figure size 600x500 with 2 Axes>"
            ]
          },
          "metadata": {},
          "output_type": "display_data"
        },
        {
          "name": "stdout",
          "output_type": "stream",
          "text": [
            "                          Model  Accuracy  Precision  Recall  F1-Score\n",
            "0     K-Nearest Neighbors (KNN)     0.922   0.925492   0.922  0.923217\n",
            "1  Support Vector Machine (SVM)     0.928   0.930941   0.928  0.928889\n"
          ]
        }
      ],
      "source": [
        "def evaluate_model(model, X_test, y_test, model_name=\"Model\"):\n",
        "    y_pred = model.predict(X_test)\n",
        "    cm = confusion_matrix(y_test, y_pred)\n",
        "\n",
        "    if cm.shape == (2, 2):\n",
        "        tn, fp, fn, tp = cm.ravel()\n",
        "    else:\n",
        "        tn, fp, fn, tp = [None] * 4 \n",
        "\n",
        "    results = {\n",
        "        'Model': model_name,\n",
        "        'Confusion Matrix': cm,\n",
        "        'Accuracy': accuracy_score(y_test, y_pred),\n",
        "        'Precision': precision_score(y_test, y_pred, average='weighted'),\n",
        "        'Recall': recall_score(y_test, y_pred, average='weighted'),\n",
        "        'F1-Score': f1_score(y_test, y_pred, average='weighted'),\n",
        "        'Classification Report': classification_report(y_test, y_pred, output_dict=True)\n",
        "    }\n",
        "\n",
        "    plt.figure(figsize=(6, 5))\n",
        "    sns.heatmap(cm, annot=True, fmt=\"d\", cmap=\"Blues\", xticklabels=np.unique(y_test), yticklabels=np.unique(y_test))\n",
        "    plt.xlabel(\"Predicted Label\")\n",
        "    plt.ylabel(\"True Label\")\n",
        "    plt.title(f\"Confusion Matrix - {model_name}\")\n",
        "    plt.show()\n",
        "\n",
        "    return results\n",
        "\n",
        "models = {\n",
        "    'K-Nearest Neighbors (KNN)': knn,\n",
        "    'Support Vector Machine (SVM)': svm\n",
        "}\n",
        "\n",
        "results = {name: evaluate_model(model, X_test, y_test, name) for name, model in models.items()}\n",
        "\n",
        "summary_df = pd.DataFrame([\n",
        "    {\n",
        "        'Model': name,\n",
        "        'Accuracy': metrics['Accuracy'],\n",
        "        'Precision': metrics['Precision'],\n",
        "        'Recall': metrics['Recall'],\n",
        "        'F1-Score': metrics['F1-Score']\n",
        "    }\n",
        "    for name, metrics in results.items()\n",
        "])\n",
        "\n",
        "print(summary_df)\n"
      ]
    },
    {
      "cell_type": "markdown",
      "metadata": {
        "id": "H4_9OwrsXZlz"
      },
      "source": [
        "| Model                         | Accuracy | Precision | Recall | F1-Score |\n",
        "|--------------------------------|----------|-----------|--------|----------|\n",
        "| K-Nearest Neighbors (KNN)  | 0.922    | 0.925     | 0.922  | 0.923    |\n",
        "| Support Vector Machine (SVM) | 0.928    | 0.931     | 0.928  | 0.929    |\n",
        "\n",
        "### 1. Akurasi (Accuracy)\n",
        "- SVM memiliki akurasi lebih tinggi (0.928) dibandingkan KNN (0.922).\n",
        "- Ini menunjukkan bahwa SVM lebih baik dalam mengklasifikasikan data uji.\n",
        "\n",
        "### 2. Presisi (Precision)\n",
        "- Presisi SVM lebih tinggi (0.931) dibandingkan KNN (0.925).\n",
        "- Ini berarti SVM lebih sedikit membuat kesalahan dalam memprediksi kelas positif.\n",
        "\n",
        "### 3. Recall\n",
        "- Recall SVM (0.928) lebih tinggi daripada KNN (0.922).\n",
        "- Ini menunjukkan bahwa SVM lebih baik dalam menangkap semua sampel yang benar.\n",
        "\n",
        "### 4. F1-Score\n",
        "- F1-Score SVM (0.929) lebih tinggi dibandingkan KNN (0.923).\n",
        "- Ini menunjukkan keseimbangan yang lebih baik antara presisi dan recall.\n",
        "\n",
        "## Confusion Matrix\n",
        "- Dari visualisasi confusion matrix, kedua algoritma memiliki kesalahan prediksi yang mirip.\n",
        "- Kedua model memiliki performa tinggi dalam mengklasifikasikan kategori \"Rendah\", tetapi masih terdapat kesalahan dalam kategori lain seperti \"Sedang\" dan \"Tinggi\".\n"
      ]
    },
    {
      "cell_type": "markdown",
      "metadata": {
        "id": "ph9yIYDXEPuB"
      },
      "source": [
        "## **c. Tuning Model Klasifikasi (Optional)**"
      ]
    },
    {
      "cell_type": "markdown",
      "metadata": {
        "id": "-Bikx3LINv5e"
      },
      "source": [
        "Gunakan GridSearchCV, RandomizedSearchCV, atau metode lainnya untuk mencari kombinasi hyperparameter terbaik"
      ]
    },
    {
      "cell_type": "code",
      "execution_count": 45,
      "metadata": {
        "id": "winbFzb8NL95"
      },
      "outputs": [],
      "source": [
        "#Type your code here"
      ]
    },
    {
      "cell_type": "markdown",
      "metadata": {
        "id": "hE7pqlEPEYzI"
      },
      "source": [
        "## **d. Evaluasi Model Klasifikasi setelah Tuning (Optional)**"
      ]
    },
    {
      "cell_type": "markdown",
      "metadata": {
        "id": "feaPESoeN0zz"
      },
      "source": [
        "Berikut adalah rekomendasi tahapannya.\n",
        "1. Gunakan model dengan hyperparameter terbaik.\n",
        "2. Hitung ulang metrik evaluasi untuk melihat apakah ada peningkatan performa."
      ]
    },
    {
      "cell_type": "code",
      "execution_count": 46,
      "metadata": {
        "id": "HTXZRvEeNMb1"
      },
      "outputs": [],
      "source": [
        "#Type your code here"
      ]
    },
    {
      "cell_type": "markdown",
      "metadata": {},
      "source": []
    },
    {
      "cell_type": "markdown",
      "metadata": {
        "id": "ZRsOdm4uEgAW"
      },
      "source": [
        "## **e. Analisis Hasil Evaluasi Model Klasifikasi**"
      ]
    },
    {
      "cell_type": "markdown",
      "metadata": {
        "id": "Hm3BhSi6N4_l"
      },
      "source": [
        "Berikut adalah **rekomendasi** tahapannya.\n",
        "1. Bandingkan hasil evaluasi sebelum dan setelah tuning (jika dilakukan).\n",
        "2. Identifikasi kelemahan model, seperti:\n",
        "  - Precision atau Recall rendah untuk kelas tertentu.\n",
        "  - Apakah model mengalami overfitting atau underfitting?\n",
        "3. Berikan rekomendasi tindakan lanjutan, seperti mengumpulkan data tambahan atau mencoba algoritma lain jika hasil belum memuaskan."
      ]
    },
    {
      "cell_type": "markdown",
      "metadata": {},
      "source": [
        "## Identifikasi kelemahan model"
      ]
    },
    {
      "cell_type": "markdown",
      "metadata": {},
      "source": [
        "1. K-Nearest Neighbors (KNN) : \n",
        "- Akurasi   : 0.922 (cukup baik).\n",
        "- F1-Score  : 0.923 (cukup baik).\n",
        "- Kelemahan : Meskipun performa cukup baik, KNN cenderung lambat dalam prediksi untuk dataset besar. Selain itu KNN juga sensitif terhadap skala data, sehingga normalisasi/standarisasi sangat penting.\n",
        "\n",
        "2. Support Vector Machine (SVM) : \n",
        "- Akurasi   : 0.928 (cukup baik).\n",
        "- F1-Score  : 0.929 (cukup baik).\n",
        "- Kelemahan : SVM cenderung lambat untuk dataset besar. Lalu performa SVM sangat bergantung pada pemilihan kernel dan hyperparameter."
      ]
    },
    {
      "cell_type": "markdown",
      "metadata": {},
      "source": [
        "## Kesimpulan"
      ]
    },
    {
      "cell_type": "markdown",
      "metadata": {},
      "source": [
        "\n",
        "- Model tidak mengalami underfitting dan overfitting sebab skor sempurna seperti 1.000 pada pelatihan.\n",
        "- SVM lebih unggul dibandingkan KNN dalam semua metrik evaluasi (accuracy, precision, recall, dan F1-score).\n",
        "- Jika performa yang lebih tinggi dibutuhkan, maka SVM adalah pilihan yang lebih baik.\n",
        "- Namun, jika kecepatan dan kemudahan implementasi menjadi pertimbangan, KNN tetap bisa dipertimbangkan."
      ]
    },
    {
      "cell_type": "markdown",
      "metadata": {},
      "source": [
        "## Rekomendasi yang dapat dilakukan"
      ]
    },
    {
      "cell_type": "markdown",
      "metadata": {},
      "source": [
        "- Mengumpulkan / Menambahkan data untuk generilisasi model.\n",
        "- Menyeimbangkan dataset jika ada kelas minoritas yang kurang terwakili.\n",
        "- Menguji algoritma lain seperti Random Forest atau Neural Networks jika ingin meningkatkan akurasi."
      ]
    }
  ],
  "metadata": {
    "colab": {
      "provenance": []
    },
    "kernelspec": {
      "display_name": "base",
      "language": "python",
      "name": "python3"
    },
    "language_info": {
      "codemirror_mode": {
        "name": "ipython",
        "version": 3
      },
      "file_extension": ".py",
      "mimetype": "text/x-python",
      "name": "python",
      "nbconvert_exporter": "python",
      "pygments_lexer": "ipython3",
      "version": "3.11.7"
    }
  },
  "nbformat": 4,
  "nbformat_minor": 0
}
